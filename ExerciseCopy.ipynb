{
 "cells": [
  {
   "cell_type": "markdown",
   "id": "ac6ecaea",
   "metadata": {},
   "source": [
    "## Technical Exercise for Data Scientist Candidates\n",
    "\n",
    "##### Author: Wenli Zhang\n",
    "##### Date: Aug 2021"
   ]
  },
  {
   "cell_type": "markdown",
   "id": "96f2fba3",
   "metadata": {},
   "source": [
    "## Content"
   ]
  },
  {
   "cell_type": "markdown",
   "id": "60b7f759",
   "metadata": {},
   "source": [
    "1. [Import libraries](#libraries)\n",
    "1. [Question List](#Question_List)\n"
   ]
  },
  {
   "cell_type": "markdown",
   "id": "847fe98c",
   "metadata": {},
   "source": [
    "## 1. Import libraries\n",
    "\n",
    "<a id='libraries'></a>"
   ]
  },
  {
   "cell_type": "code",
   "execution_count": 1,
   "id": "c75216e1",
   "metadata": {},
   "outputs": [
    {
     "data": {
      "text/html": [
       "        <script type=\"text/javascript\">\n",
       "        window.PlotlyConfig = {MathJaxConfig: 'local'};\n",
       "        if (window.MathJax) {MathJax.Hub.Config({SVG: {font: \"STIX-Web\"}});}\n",
       "        if (typeof require !== 'undefined') {\n",
       "        require.undef(\"plotly\");\n",
       "        requirejs.config({\n",
       "            paths: {\n",
       "                'plotly': ['https://cdn.plot.ly/plotly-2.3.1.min']\n",
       "            }\n",
       "        });\n",
       "        require(['plotly'], function(Plotly) {\n",
       "            window._Plotly = Plotly;\n",
       "        });\n",
       "        }\n",
       "        </script>\n",
       "        "
      ]
     },
     "metadata": {},
     "output_type": "display_data"
    },
    {
     "data": {
      "text/html": [
       "        <script type=\"text/javascript\">\n",
       "        window.PlotlyConfig = {MathJaxConfig: 'local'};\n",
       "        if (window.MathJax) {MathJax.Hub.Config({SVG: {font: \"STIX-Web\"}});}\n",
       "        if (typeof require !== 'undefined') {\n",
       "        require.undef(\"plotly\");\n",
       "        requirejs.config({\n",
       "            paths: {\n",
       "                'plotly': ['https://cdn.plot.ly/plotly-2.3.1.min']\n",
       "            }\n",
       "        });\n",
       "        require(['plotly'], function(Plotly) {\n",
       "            window._Plotly = Plotly;\n",
       "        });\n",
       "        }\n",
       "        </script>\n",
       "        "
      ]
     },
     "metadata": {},
     "output_type": "display_data"
    }
   ],
   "source": [
    "import pandas as pd\n",
    "import numpy as np\n",
    "import re\n",
    "from datetime import datetime\n",
    "from scipy.sparse import csr_matrix\n",
    "\n",
    "import nltk\n",
    "from nltk.corpus import stopwords\n",
    "\n",
    "from textblob import TextBlob\n",
    "from sklearn.cluster import SpectralClustering\n",
    "from sklearn.decomposition import PCA\n",
    "\n",
    "\n",
    "# Reports\n",
    "import plotly\n",
    "import chart_studio\n",
    "import chart_studio.plotly as py\n",
    "import plotly.graph_objs as go\n",
    "from plotly.subplots import make_subplots\n",
    "from plotly.offline import download_plotlyjs, init_notebook_mode, plot, iplot\n",
    "import cufflinks\n",
    "cufflinks.go_offline(connected=True)\n",
    "init_notebook_mode(connected=True)\n",
    "import plotly.express as px\n",
    "#import plotly.figure_factory as ff\n",
    "import plotly.io as pio\n",
    "#pio.renderers.default = \"svg\" # for plotly report to show as image in github\n",
    "\n",
    "import seaborn as sns\n",
    "import matplotlib.pyplot as plt\n",
    "from mpl_toolkits.mplot3d import Axes3D"
   ]
  },
  {
   "cell_type": "markdown",
   "id": "653375f5",
   "metadata": {},
   "source": [
    "## 2. Question List\n",
    "\n",
    "<a id='Question_List'></a>\n"
   ]
  },
  {
   "cell_type": "markdown",
   "id": "b2909968",
   "metadata": {},
   "source": [
    "1. [Rank top 3 Breweries which produce the strongest beers?](#Q1)\n",
    "1. [Which year did beers enjoy the highest ratings?](#Q2)\n",
    "1. [Based on the user’s ratings which factors are important among taste, aroma, appearance, and palette?](#Q3)\n",
    "1. [If you were to recommend 3 beers to your friends based on this data which ones will you recommend?](#Q4)\n",
    "1. [Which Beer style seems to be the favorite based on reviews written by users?](#Q5)\n",
    "1. [How does written review compare to overall review score for the beer styles?](#Q6)\n",
    "1. [How do find similar beer drinkers by using written reviews only? ](#Q7)"
   ]
  },
  {
   "cell_type": "code",
   "execution_count": 2,
   "id": "3b66a7ca",
   "metadata": {},
   "outputs": [
    {
     "data": {
      "text/html": [
       "<div>\n",
       "<style scoped>\n",
       "    .dataframe tbody tr th:only-of-type {\n",
       "        vertical-align: middle;\n",
       "    }\n",
       "\n",
       "    .dataframe tbody tr th {\n",
       "        vertical-align: top;\n",
       "    }\n",
       "\n",
       "    .dataframe thead th {\n",
       "        text-align: right;\n",
       "    }\n",
       "</style>\n",
       "<table border=\"1\" class=\"dataframe\">\n",
       "  <thead>\n",
       "    <tr style=\"text-align: right;\">\n",
       "      <th></th>\n",
       "      <th>beer_ABV</th>\n",
       "      <th>beer_beerId</th>\n",
       "      <th>beer_brewerId</th>\n",
       "      <th>beer_name</th>\n",
       "      <th>beer_style</th>\n",
       "      <th>review_appearance</th>\n",
       "      <th>review_palette</th>\n",
       "      <th>review_overall</th>\n",
       "      <th>review_taste</th>\n",
       "      <th>review_profileName</th>\n",
       "      <th>review_aroma</th>\n",
       "      <th>review_text</th>\n",
       "      <th>review_time</th>\n",
       "    </tr>\n",
       "  </thead>\n",
       "  <tbody>\n",
       "    <tr>\n",
       "      <th>0</th>\n",
       "      <td>5.0</td>\n",
       "      <td>47986</td>\n",
       "      <td>10325</td>\n",
       "      <td>Sausa Weizen</td>\n",
       "      <td>Hefeweizen</td>\n",
       "      <td>2.5</td>\n",
       "      <td>2.0</td>\n",
       "      <td>1.5</td>\n",
       "      <td>1.5</td>\n",
       "      <td>stcules</td>\n",
       "      <td>1.5</td>\n",
       "      <td>A lot of foam. But a lot. In the smell some ba...</td>\n",
       "      <td>1234817823</td>\n",
       "    </tr>\n",
       "    <tr>\n",
       "      <th>1</th>\n",
       "      <td>6.2</td>\n",
       "      <td>48213</td>\n",
       "      <td>10325</td>\n",
       "      <td>Red Moon</td>\n",
       "      <td>English Strong Ale</td>\n",
       "      <td>3.0</td>\n",
       "      <td>2.5</td>\n",
       "      <td>3.0</td>\n",
       "      <td>3.0</td>\n",
       "      <td>stcules</td>\n",
       "      <td>3.0</td>\n",
       "      <td>Dark red color, light beige foam, average. In ...</td>\n",
       "      <td>1235915097</td>\n",
       "    </tr>\n",
       "    <tr>\n",
       "      <th>2</th>\n",
       "      <td>6.5</td>\n",
       "      <td>48215</td>\n",
       "      <td>10325</td>\n",
       "      <td>Black Horse Black Beer</td>\n",
       "      <td>Foreign / Export Stout</td>\n",
       "      <td>3.0</td>\n",
       "      <td>2.5</td>\n",
       "      <td>3.0</td>\n",
       "      <td>3.0</td>\n",
       "      <td>stcules</td>\n",
       "      <td>3.0</td>\n",
       "      <td>Almost totally black. Beige foam, quite compac...</td>\n",
       "      <td>1235916604</td>\n",
       "    </tr>\n",
       "    <tr>\n",
       "      <th>3</th>\n",
       "      <td>5.0</td>\n",
       "      <td>47969</td>\n",
       "      <td>10325</td>\n",
       "      <td>Sausa Pils</td>\n",
       "      <td>German Pilsener</td>\n",
       "      <td>3.5</td>\n",
       "      <td>3.0</td>\n",
       "      <td>3.0</td>\n",
       "      <td>2.5</td>\n",
       "      <td>stcules</td>\n",
       "      <td>3.0</td>\n",
       "      <td>Golden yellow color. White, compact foam, quit...</td>\n",
       "      <td>1234725145</td>\n",
       "    </tr>\n",
       "    <tr>\n",
       "      <th>4</th>\n",
       "      <td>7.7</td>\n",
       "      <td>64883</td>\n",
       "      <td>1075</td>\n",
       "      <td>Cauldron DIPA</td>\n",
       "      <td>American Double / Imperial IPA</td>\n",
       "      <td>4.0</td>\n",
       "      <td>4.5</td>\n",
       "      <td>4.0</td>\n",
       "      <td>4.0</td>\n",
       "      <td>johnmichaelsen</td>\n",
       "      <td>4.5</td>\n",
       "      <td>According to the website, the style for the Ca...</td>\n",
       "      <td>1293735206</td>\n",
       "    </tr>\n",
       "  </tbody>\n",
       "</table>\n",
       "</div>"
      ],
      "text/plain": [
       "   beer_ABV  beer_beerId  beer_brewerId               beer_name  \\\n",
       "0       5.0        47986          10325            Sausa Weizen   \n",
       "1       6.2        48213          10325                Red Moon   \n",
       "2       6.5        48215          10325  Black Horse Black Beer   \n",
       "3       5.0        47969          10325              Sausa Pils   \n",
       "4       7.7        64883           1075           Cauldron DIPA   \n",
       "\n",
       "                       beer_style  review_appearance  review_palette  \\\n",
       "0                      Hefeweizen                2.5             2.0   \n",
       "1              English Strong Ale                3.0             2.5   \n",
       "2          Foreign / Export Stout                3.0             2.5   \n",
       "3                 German Pilsener                3.5             3.0   \n",
       "4  American Double / Imperial IPA                4.0             4.5   \n",
       "\n",
       "   review_overall  review_taste review_profileName  review_aroma  \\\n",
       "0             1.5           1.5            stcules           1.5   \n",
       "1             3.0           3.0            stcules           3.0   \n",
       "2             3.0           3.0            stcules           3.0   \n",
       "3             3.0           2.5            stcules           3.0   \n",
       "4             4.0           4.0     johnmichaelsen           4.5   \n",
       "\n",
       "                                         review_text  review_time  \n",
       "0  A lot of foam. But a lot. In the smell some ba...   1234817823  \n",
       "1  Dark red color, light beige foam, average. In ...   1235915097  \n",
       "2  Almost totally black. Beige foam, quite compac...   1235916604  \n",
       "3  Golden yellow color. White, compact foam, quit...   1234725145  \n",
       "4  According to the website, the style for the Ca...   1293735206  "
      ]
     },
     "execution_count": 2,
     "metadata": {},
     "output_type": "execute_result"
    }
   ],
   "source": [
    "dfbeer=pd.read_csv('BeerDataScienceProject_small.csv',encoding = \"ISO-8859-1\")\n",
    "dfbeer.head()"
   ]
  },
  {
   "cell_type": "markdown",
   "id": "0efafbd4",
   "metadata": {},
   "source": [
    "### Key information after data inspection:\n",
    "#### total record count: 528870\n",
    "#### beer_style: 104 \n",
    "#### user: 22800 \n",
    "#### beer_name: 18339"
   ]
  },
  {
   "cell_type": "code",
   "execution_count": 3,
   "id": "3aa1deb7",
   "metadata": {},
   "outputs": [
    {
     "data": {
      "text/html": [
       "<div>\n",
       "<style scoped>\n",
       "    .dataframe tbody tr th:only-of-type {\n",
       "        vertical-align: middle;\n",
       "    }\n",
       "\n",
       "    .dataframe tbody tr th {\n",
       "        vertical-align: top;\n",
       "    }\n",
       "\n",
       "    .dataframe thead th {\n",
       "        text-align: right;\n",
       "    }\n",
       "</style>\n",
       "<table border=\"1\" class=\"dataframe\">\n",
       "  <thead>\n",
       "    <tr style=\"text-align: right;\">\n",
       "      <th></th>\n",
       "      <th>beer_ABV</th>\n",
       "      <th>beer_beerId</th>\n",
       "      <th>beer_brewerId</th>\n",
       "      <th>beer_name</th>\n",
       "      <th>beer_style</th>\n",
       "      <th>review_appearance</th>\n",
       "      <th>review_palette</th>\n",
       "      <th>review_overall</th>\n",
       "      <th>review_taste</th>\n",
       "      <th>review_profileName</th>\n",
       "      <th>review_aroma</th>\n",
       "      <th>review_text</th>\n",
       "      <th>review_time</th>\n",
       "      <th>review_year</th>\n",
       "    </tr>\n",
       "  </thead>\n",
       "  <tbody>\n",
       "    <tr>\n",
       "      <th>0</th>\n",
       "      <td>5.0</td>\n",
       "      <td>47986</td>\n",
       "      <td>10325</td>\n",
       "      <td>Sausa Weizen</td>\n",
       "      <td>Hefeweizen</td>\n",
       "      <td>2.5</td>\n",
       "      <td>2.0</td>\n",
       "      <td>1.5</td>\n",
       "      <td>1.5</td>\n",
       "      <td>stcules</td>\n",
       "      <td>1.5</td>\n",
       "      <td>A lot of foam. But a lot. In the smell some ba...</td>\n",
       "      <td>1234817823</td>\n",
       "      <td>2009</td>\n",
       "    </tr>\n",
       "    <tr>\n",
       "      <th>1</th>\n",
       "      <td>6.2</td>\n",
       "      <td>48213</td>\n",
       "      <td>10325</td>\n",
       "      <td>Red Moon</td>\n",
       "      <td>English Strong Ale</td>\n",
       "      <td>3.0</td>\n",
       "      <td>2.5</td>\n",
       "      <td>3.0</td>\n",
       "      <td>3.0</td>\n",
       "      <td>stcules</td>\n",
       "      <td>3.0</td>\n",
       "      <td>Dark red color, light beige foam, average. In ...</td>\n",
       "      <td>1235915097</td>\n",
       "      <td>2009</td>\n",
       "    </tr>\n",
       "    <tr>\n",
       "      <th>2</th>\n",
       "      <td>6.5</td>\n",
       "      <td>48215</td>\n",
       "      <td>10325</td>\n",
       "      <td>Black Horse Black Beer</td>\n",
       "      <td>Foreign / Export Stout</td>\n",
       "      <td>3.0</td>\n",
       "      <td>2.5</td>\n",
       "      <td>3.0</td>\n",
       "      <td>3.0</td>\n",
       "      <td>stcules</td>\n",
       "      <td>3.0</td>\n",
       "      <td>Almost totally black. Beige foam, quite compac...</td>\n",
       "      <td>1235916604</td>\n",
       "      <td>2009</td>\n",
       "    </tr>\n",
       "    <tr>\n",
       "      <th>3</th>\n",
       "      <td>5.0</td>\n",
       "      <td>47969</td>\n",
       "      <td>10325</td>\n",
       "      <td>Sausa Pils</td>\n",
       "      <td>German Pilsener</td>\n",
       "      <td>3.5</td>\n",
       "      <td>3.0</td>\n",
       "      <td>3.0</td>\n",
       "      <td>2.5</td>\n",
       "      <td>stcules</td>\n",
       "      <td>3.0</td>\n",
       "      <td>Golden yellow color. White, compact foam, quit...</td>\n",
       "      <td>1234725145</td>\n",
       "      <td>2009</td>\n",
       "    </tr>\n",
       "    <tr>\n",
       "      <th>4</th>\n",
       "      <td>7.7</td>\n",
       "      <td>64883</td>\n",
       "      <td>1075</td>\n",
       "      <td>Cauldron DIPA</td>\n",
       "      <td>American Double / Imperial IPA</td>\n",
       "      <td>4.0</td>\n",
       "      <td>4.5</td>\n",
       "      <td>4.0</td>\n",
       "      <td>4.0</td>\n",
       "      <td>johnmichaelsen</td>\n",
       "      <td>4.5</td>\n",
       "      <td>According to the website, the style for the Ca...</td>\n",
       "      <td>1293735206</td>\n",
       "      <td>2010</td>\n",
       "    </tr>\n",
       "  </tbody>\n",
       "</table>\n",
       "</div>"
      ],
      "text/plain": [
       "   beer_ABV  beer_beerId  beer_brewerId               beer_name  \\\n",
       "0       5.0        47986          10325            Sausa Weizen   \n",
       "1       6.2        48213          10325                Red Moon   \n",
       "2       6.5        48215          10325  Black Horse Black Beer   \n",
       "3       5.0        47969          10325              Sausa Pils   \n",
       "4       7.7        64883           1075           Cauldron DIPA   \n",
       "\n",
       "                       beer_style  review_appearance  review_palette  \\\n",
       "0                      Hefeweizen                2.5             2.0   \n",
       "1              English Strong Ale                3.0             2.5   \n",
       "2          Foreign / Export Stout                3.0             2.5   \n",
       "3                 German Pilsener                3.5             3.0   \n",
       "4  American Double / Imperial IPA                4.0             4.5   \n",
       "\n",
       "   review_overall  review_taste review_profileName  review_aroma  \\\n",
       "0             1.5           1.5            stcules           1.5   \n",
       "1             3.0           3.0            stcules           3.0   \n",
       "2             3.0           3.0            stcules           3.0   \n",
       "3             3.0           2.5            stcules           3.0   \n",
       "4             4.0           4.0     johnmichaelsen           4.5   \n",
       "\n",
       "                                         review_text  review_time review_year  \n",
       "0  A lot of foam. But a lot. In the smell some ba...   1234817823        2009  \n",
       "1  Dark red color, light beige foam, average. In ...   1235915097        2009  \n",
       "2  Almost totally black. Beige foam, quite compac...   1235916604        2009  \n",
       "3  Golden yellow color. White, compact foam, quit...   1234725145        2009  \n",
       "4  According to the website, the style for the Ca...   1293735206        2010  "
      ]
     },
     "execution_count": 3,
     "metadata": {},
     "output_type": "execute_result"
    }
   ],
   "source": [
    "# get year from utcfromtimestamp\n",
    "dfbeer['review_year'] = dfbeer.apply(lambda row: datetime.utcfromtimestamp(row.review_time).strftime(\"%Y\"), axis=1)\n",
    "dfbeer.head()"
   ]
  },
  {
   "cell_type": "code",
   "execution_count": 4,
   "id": "623b1962",
   "metadata": {},
   "outputs": [
    {
     "data": {
      "text/plain": [
       "beer_ABV              169\n",
       "beer_beerId             0\n",
       "beer_brewerId           0\n",
       "beer_name               0\n",
       "beer_style              0\n",
       "review_appearance       0\n",
       "review_palette          0\n",
       "review_overall          0\n",
       "review_taste            0\n",
       "review_profileName      0\n",
       "review_aroma            0\n",
       "review_text             0\n",
       "review_time             0\n",
       "review_year             0\n",
       "dtype: int64"
      ]
     },
     "execution_count": 4,
     "metadata": {},
     "output_type": "execute_result"
    }
   ],
   "source": [
    "#check null value\n",
    "dfbeer.isnull().sum()"
   ]
  },
  {
   "cell_type": "code",
   "execution_count": 5,
   "id": "ac7d93fa",
   "metadata": {},
   "outputs": [
    {
     "data": {
      "text/plain": [
       "(2795, 14)"
      ]
     },
     "execution_count": 5,
     "metadata": {},
     "output_type": "execute_result"
    }
   ],
   "source": [
    "# Since null counts for review_profileName and review_text are in small percentage, and both are needed for questions asked, so simply drop rows involved\n",
    "dfbeer = dfbeer[dfbeer['review_profileName'].notna() & dfbeer['review_text'].notna()]\n",
    "dfbeer.shape"
   ]
  },
  {
   "cell_type": "code",
   "execution_count": 6,
   "id": "fefe2e44",
   "metadata": {},
   "outputs": [
    {
     "data": {
      "text/plain": [
       "(2587, 14)"
      ]
     },
     "execution_count": 6,
     "metadata": {},
     "output_type": "execute_result"
    }
   ],
   "source": [
    "# There are multiple entries by same user for same beer name, keep only the most recent entry\n",
    "dfbeer_dup=dfbeer[dfbeer.groupby(['beer_style','beer_name'])['review_time'].transform('count') > 1]\n",
    "dfbeer_dup.shape"
   ]
  },
  {
   "cell_type": "code",
   "execution_count": 7,
   "id": "8caad234",
   "metadata": {},
   "outputs": [
    {
     "data": {
      "text/plain": [
       "(2783, 14)"
      ]
     },
     "execution_count": 7,
     "metadata": {},
     "output_type": "execute_result"
    }
   ],
   "source": [
    "# Sort data by review_time descending; keep the first in each unique'review_profileName' + 'beer_name'\n",
    "dfbeer = dfbeer.sort_values('review_time', ascending=False)\n",
    "dfbeer = dfbeer.drop_duplicates(subset= ['review_profileName','beer_name'], keep='first')\n",
    "dfbeer.shape"
   ]
  },
  {
   "cell_type": "markdown",
   "id": "dcc4393e",
   "metadata": {},
   "source": [
    "### 1. Rank top 3 Breweries which produce the strongest beers?\n",
    "<a id='Q1'></a>"
   ]
  },
  {
   "cell_type": "code",
   "execution_count": 8,
   "id": "204f5955",
   "metadata": {},
   "outputs": [
    {
     "data": {
      "text/plain": [
       "beer_brewerId\n",
       "2724     7.643243\n",
       "20658    7.245000\n",
       "7314     7.100000\n",
       "Name: beer_ABV, dtype: float64"
      ]
     },
     "execution_count": 8,
     "metadata": {},
     "output_type": "execute_result"
    }
   ],
   "source": [
    "dfbeer.groupby(['beer_brewerId'])['beer_ABV'].mean().nlargest(3)"
   ]
  },
  {
   "cell_type": "markdown",
   "id": "29555aec",
   "metadata": {},
   "source": [
    "#### <font color='green'>Top 3 Breweries: 6513, 736, 24215 </font>"
   ]
  },
  {
   "cell_type": "markdown",
   "id": "c31ac85f",
   "metadata": {},
   "source": [
    "### 2. Which year did beers enjoy the highest ratings?\n",
    "<a id='Q2'></a>"
   ]
  },
  {
   "cell_type": "markdown",
   "id": "80ce75fa",
   "metadata": {},
   "source": [
    "#### Amoung all the variables, review_overall is the best to indicate 'rating'"
   ]
  },
  {
   "cell_type": "code",
   "execution_count": 9,
   "id": "66f484c2",
   "metadata": {},
   "outputs": [
    {
     "data": {
      "text/plain": [
       "review_year\n",
       "2012    3.833333\n",
       "Name: review_overall, dtype: float64"
      ]
     },
     "execution_count": 9,
     "metadata": {},
     "output_type": "execute_result"
    }
   ],
   "source": [
    "dfbeer.groupby(['review_year'])['review_overall'].mean().nlargest(1)"
   ]
  },
  {
   "cell_type": "markdown",
   "id": "1755535e",
   "metadata": {},
   "source": [
    "#### <font color='green'>Year 2000 has the highest beer rating of 4.209677 on average </font>"
   ]
  },
  {
   "cell_type": "code",
   "execution_count": 10,
   "id": "f5bfb43e",
   "metadata": {},
   "outputs": [
    {
     "data": {
      "text/html": [
       "<div>\n",
       "<style scoped>\n",
       "    .dataframe tbody tr th:only-of-type {\n",
       "        vertical-align: middle;\n",
       "    }\n",
       "\n",
       "    .dataframe tbody tr th {\n",
       "        vertical-align: top;\n",
       "    }\n",
       "\n",
       "    .dataframe thead th {\n",
       "        text-align: right;\n",
       "    }\n",
       "</style>\n",
       "<table border=\"1\" class=\"dataframe\">\n",
       "  <thead>\n",
       "    <tr style=\"text-align: right;\">\n",
       "      <th>review_year</th>\n",
       "      <th>2001</th>\n",
       "      <th>2002</th>\n",
       "      <th>2003</th>\n",
       "      <th>2004</th>\n",
       "      <th>2005</th>\n",
       "      <th>2006</th>\n",
       "      <th>2007</th>\n",
       "      <th>2008</th>\n",
       "      <th>2009</th>\n",
       "      <th>2010</th>\n",
       "      <th>2011</th>\n",
       "      <th>2012</th>\n",
       "    </tr>\n",
       "    <tr>\n",
       "      <th>beer_style</th>\n",
       "      <th></th>\n",
       "      <th></th>\n",
       "      <th></th>\n",
       "      <th></th>\n",
       "      <th></th>\n",
       "      <th></th>\n",
       "      <th></th>\n",
       "      <th></th>\n",
       "      <th></th>\n",
       "      <th></th>\n",
       "      <th></th>\n",
       "      <th></th>\n",
       "    </tr>\n",
       "  </thead>\n",
       "  <tbody>\n",
       "    <tr>\n",
       "      <th>Altbier</th>\n",
       "      <td>NaN</td>\n",
       "      <td>NaN</td>\n",
       "      <td>NaN</td>\n",
       "      <td>4.0</td>\n",
       "      <td>4.000000</td>\n",
       "      <td>NaN</td>\n",
       "      <td>4.0</td>\n",
       "      <td>3.600000</td>\n",
       "      <td>3.87500</td>\n",
       "      <td>3.857143</td>\n",
       "      <td>4.000000</td>\n",
       "      <td>NaN</td>\n",
       "    </tr>\n",
       "    <tr>\n",
       "      <th>American Adjunct Lager</th>\n",
       "      <td>NaN</td>\n",
       "      <td>NaN</td>\n",
       "      <td>NaN</td>\n",
       "      <td>NaN</td>\n",
       "      <td>NaN</td>\n",
       "      <td>NaN</td>\n",
       "      <td>3.0</td>\n",
       "      <td>3.833333</td>\n",
       "      <td>3.50000</td>\n",
       "      <td>3.718750</td>\n",
       "      <td>3.750000</td>\n",
       "      <td>NaN</td>\n",
       "    </tr>\n",
       "    <tr>\n",
       "      <th>American Amber / Red Ale</th>\n",
       "      <td>NaN</td>\n",
       "      <td>NaN</td>\n",
       "      <td>4.0</td>\n",
       "      <td>3.5</td>\n",
       "      <td>3.833333</td>\n",
       "      <td>3.5</td>\n",
       "      <td>4.0</td>\n",
       "      <td>4.000000</td>\n",
       "      <td>3.84375</td>\n",
       "      <td>3.755556</td>\n",
       "      <td>3.794872</td>\n",
       "      <td>4.0</td>\n",
       "    </tr>\n",
       "    <tr>\n",
       "      <th>American Amber / Red Lager</th>\n",
       "      <td>NaN</td>\n",
       "      <td>1.5</td>\n",
       "      <td>NaN</td>\n",
       "      <td>NaN</td>\n",
       "      <td>NaN</td>\n",
       "      <td>3.5</td>\n",
       "      <td>3.0</td>\n",
       "      <td>4.500000</td>\n",
       "      <td>NaN</td>\n",
       "      <td>2.500000</td>\n",
       "      <td>2.000000</td>\n",
       "      <td>NaN</td>\n",
       "    </tr>\n",
       "    <tr>\n",
       "      <th>American Barleywine</th>\n",
       "      <td>NaN</td>\n",
       "      <td>NaN</td>\n",
       "      <td>NaN</td>\n",
       "      <td>4.0</td>\n",
       "      <td>NaN</td>\n",
       "      <td>NaN</td>\n",
       "      <td>5.0</td>\n",
       "      <td>4.000000</td>\n",
       "      <td>3.50000</td>\n",
       "      <td>3.000000</td>\n",
       "      <td>4.000000</td>\n",
       "      <td>NaN</td>\n",
       "    </tr>\n",
       "  </tbody>\n",
       "</table>\n",
       "</div>"
      ],
      "text/plain": [
       "review_year                 2001  2002  2003  2004      2005  2006  2007  \\\n",
       "beer_style                                                                 \n",
       "Altbier                      NaN   NaN   NaN   4.0  4.000000   NaN   4.0   \n",
       "American Adjunct Lager       NaN   NaN   NaN   NaN       NaN   NaN   3.0   \n",
       "American Amber / Red Ale     NaN   NaN   4.0   3.5  3.833333   3.5   4.0   \n",
       "American Amber / Red Lager   NaN   1.5   NaN   NaN       NaN   3.5   3.0   \n",
       "American Barleywine          NaN   NaN   NaN   4.0       NaN   NaN   5.0   \n",
       "\n",
       "review_year                     2008     2009      2010      2011  2012  \n",
       "beer_style                                                               \n",
       "Altbier                     3.600000  3.87500  3.857143  4.000000   NaN  \n",
       "American Adjunct Lager      3.833333  3.50000  3.718750  3.750000   NaN  \n",
       "American Amber / Red Ale    4.000000  3.84375  3.755556  3.794872   4.0  \n",
       "American Amber / Red Lager  4.500000      NaN  2.500000  2.000000   NaN  \n",
       "American Barleywine         4.000000  3.50000  3.000000  4.000000   NaN  "
      ]
     },
     "execution_count": 10,
     "metadata": {},
     "output_type": "execute_result"
    }
   ],
   "source": [
    "dfbeerT=pd.crosstab(dfbeer.beer_style,dfbeer.review_year,values=dfbeer.review_overall, aggfunc='mean')\n",
    "dfbeerT.head()"
   ]
  },
  {
   "cell_type": "markdown",
   "id": "0e581e10",
   "metadata": {},
   "source": [
    "#### Graphical representation confirming the result"
   ]
  },
  {
   "cell_type": "code",
   "execution_count": 11,
   "id": "8a5a5a44",
   "metadata": {},
   "outputs": [
    {
     "data": {
      "application/vnd.plotly.v1+json": {
       "config": {
        "linkText": "Export to plot.ly",
        "plotlyServerURL": "https://plot.ly",
        "showLink": true
       },
       "data": [
        {
         "boxpoints": false,
         "line": {
          "width": 1.3
         },
         "marker": {
          "color": "rgba(255, 153, 51, 1.0)"
         },
         "name": "2001",
         "orientation": "v",
         "type": "box",
         "y": [
          null,
          null,
          null,
          null,
          null,
          null,
          null,
          null,
          null,
          null,
          null,
          3,
          null,
          null,
          null,
          null,
          null,
          null,
          null,
          null,
          null,
          null,
          null,
          3,
          null,
          null,
          null,
          null,
          null,
          null,
          null,
          null,
          null,
          null,
          null,
          null,
          null,
          null,
          null,
          null,
          null,
          null,
          null,
          null,
          null,
          null,
          null,
          null,
          null,
          null,
          null,
          null,
          null,
          null,
          null,
          null,
          null,
          3,
          null,
          null,
          null,
          null,
          null,
          null,
          null,
          null,
          null,
          null,
          null,
          null,
          null,
          null,
          5,
          null,
          null,
          null,
          null,
          null
         ]
        },
        {
         "boxpoints": false,
         "line": {
          "width": 1.3
         },
         "marker": {
          "color": "rgba(55, 128, 191, 1.0)"
         },
         "name": "2002",
         "orientation": "v",
         "type": "box",
         "y": [
          null,
          null,
          null,
          1.5,
          null,
          null,
          null,
          null,
          null,
          null,
          3.8333333333333335,
          4,
          null,
          null,
          4.5,
          null,
          null,
          null,
          null,
          4,
          null,
          null,
          null,
          3.5,
          null,
          null,
          null,
          null,
          null,
          null,
          null,
          null,
          null,
          null,
          null,
          null,
          null,
          null,
          null,
          null,
          null,
          null,
          3.1666666666666665,
          null,
          4.5,
          null,
          null,
          null,
          null,
          4.5,
          4.25,
          null,
          null,
          null,
          null,
          null,
          3,
          2.673076923076923,
          null,
          null,
          null,
          null,
          null,
          null,
          null,
          null,
          null,
          null,
          null,
          null,
          null,
          null,
          null,
          null,
          null,
          null,
          null,
          null
         ]
        },
        {
         "boxpoints": false,
         "line": {
          "width": 1.3
         },
         "marker": {
          "color": "rgba(50, 171, 96, 1.0)"
         },
         "name": "2003",
         "orientation": "v",
         "type": "box",
         "y": [
          null,
          null,
          4,
          null,
          null,
          null,
          null,
          null,
          null,
          null,
          4,
          3.5,
          4,
          null,
          4,
          4.25,
          null,
          null,
          null,
          null,
          null,
          null,
          null,
          null,
          null,
          null,
          null,
          3.75,
          3,
          null,
          null,
          null,
          null,
          null,
          3.75,
          null,
          null,
          4,
          null,
          null,
          null,
          null,
          2.4,
          null,
          null,
          null,
          null,
          null,
          null,
          null,
          3.1666666666666665,
          null,
          null,
          null,
          null,
          null,
          null,
          2.7127659574468086,
          null,
          null,
          null,
          3.5,
          3.8333333333333335,
          null,
          null,
          4,
          null,
          null,
          null,
          null,
          null,
          3.5,
          4,
          null,
          null,
          3.8333333333333335,
          null,
          1
         ]
        },
        {
         "boxpoints": false,
         "line": {
          "width": 1.3
         },
         "marker": {
          "color": "rgba(128, 0, 128, 1.0)"
         },
         "name": "2004",
         "orientation": "v",
         "type": "box",
         "y": [
          4,
          null,
          3.5,
          null,
          4,
          null,
          null,
          null,
          null,
          null,
          4,
          3.3,
          null,
          2.5,
          2.5,
          3.4,
          5,
          null,
          null,
          null,
          null,
          null,
          null,
          null,
          3.5,
          null,
          null,
          4.25,
          null,
          3,
          null,
          4.5,
          4.125,
          4.5,
          4,
          null,
          null,
          null,
          null,
          4,
          null,
          3.5,
          2.7142857142857144,
          null,
          3.75,
          null,
          null,
          null,
          null,
          3,
          3.5,
          null,
          3.5,
          null,
          null,
          null,
          4,
          2.36,
          null,
          3.25,
          null,
          4,
          3.875,
          2,
          null,
          null,
          null,
          3,
          null,
          null,
          null,
          4.133333333333334,
          4,
          null,
          null,
          3.5,
          null,
          3.8333333333333335
         ]
        },
        {
         "boxpoints": false,
         "line": {
          "width": 1.3
         },
         "marker": {
          "color": "rgba(219, 64, 82, 1.0)"
         },
         "name": "2005",
         "orientation": "v",
         "type": "box",
         "y": [
          4,
          null,
          3.8333333333333335,
          null,
          null,
          null,
          null,
          1.5,
          null,
          null,
          3.8125,
          4.125,
          null,
          3.625,
          3.875,
          3.8333333333333335,
          null,
          null,
          null,
          null,
          null,
          null,
          null,
          null,
          4.5,
          null,
          null,
          3.7,
          null,
          null,
          null,
          3,
          null,
          4,
          3.125,
          null,
          3.5,
          4.333333333333333,
          null,
          null,
          null,
          3.8,
          2.7142857142857144,
          2.75,
          4.25,
          null,
          null,
          null,
          null,
          null,
          3.75,
          null,
          null,
          null,
          3.5,
          null,
          3.75,
          3,
          2,
          4,
          null,
          4,
          3.5,
          null,
          4.5,
          null,
          null,
          null,
          4.5,
          null,
          null,
          3.590909090909091,
          3.9,
          null,
          null,
          null,
          null,
          4
         ]
        },
        {
         "boxpoints": false,
         "line": {
          "width": 1.3
         },
         "marker": {
          "color": "rgba(0, 128, 128, 1.0)"
         },
         "name": "2006",
         "orientation": "v",
         "type": "box",
         "y": [
          null,
          null,
          3.5,
          3.5,
          null,
          null,
          null,
          2,
          4,
          null,
          3.9545454545454546,
          3.9615384615384617,
          null,
          3.5,
          4.083333333333333,
          3,
          null,
          null,
          null,
          null,
          null,
          null,
          null,
          3.5,
          3,
          null,
          null,
          3.65,
          null,
          null,
          null,
          null,
          null,
          3.5,
          2,
          3.5,
          null,
          4,
          null,
          null,
          null,
          3.875,
          3.3,
          1.5,
          3.875,
          null,
          null,
          null,
          3,
          2.75,
          3.75,
          2.5,
          null,
          null,
          null,
          null,
          4,
          2.925925925925926,
          2,
          null,
          3.5,
          3,
          3.75,
          4.25,
          2.75,
          null,
          null,
          4,
          null,
          5,
          4.5,
          3.736842105263158,
          4.4,
          null,
          null,
          null,
          null,
          3.9
         ]
        },
        {
         "boxpoints": false,
         "line": {
          "width": 1.3
         },
         "marker": {
          "color": "rgba(255, 255, 51, 1.0)"
         },
         "name": "2007",
         "orientation": "v",
         "type": "box",
         "y": [
          4,
          3,
          4,
          3,
          5,
          null,
          3,
          null,
          null,
          4.5,
          4.105263157894737,
          3.966666666666667,
          null,
          null,
          4,
          3.75,
          null,
          null,
          null,
          null,
          null,
          null,
          null,
          null,
          4,
          null,
          null,
          3.6666666666666665,
          null,
          4,
          null,
          null,
          3.75,
          4.5,
          null,
          null,
          null,
          4,
          4.5,
          null,
          null,
          4.75,
          2.7222222222222223,
          null,
          4.166666666666667,
          null,
          null,
          null,
          3.3333333333333335,
          3.5,
          3.75,
          null,
          null,
          null,
          null,
          4,
          null,
          2.9210526315789473,
          null,
          2,
          null,
          2.3333333333333335,
          3.75,
          null,
          null,
          null,
          null,
          null,
          4.5,
          null,
          null,
          3.625,
          3.8333333333333335,
          null,
          3.8333333333333335,
          4,
          null,
          3.8333333333333335
         ]
        },
        {
         "boxpoints": false,
         "line": {
          "width": 1.3
         },
         "marker": {
          "color": "rgba(128, 128, 0, 1.0)"
         },
         "name": "2008",
         "orientation": "v",
         "type": "box",
         "y": [
          3.6,
          3.8333333333333335,
          4,
          4.5,
          4,
          null,
          null,
          4.166666666666667,
          3.5,
          3.875,
          3.923076923076923,
          3.9696969696969697,
          null,
          null,
          4,
          4,
          4,
          null,
          null,
          4,
          null,
          1.5,
          null,
          null,
          4,
          null,
          4,
          3.5,
          null,
          null,
          null,
          null,
          null,
          3.5,
          3.6666666666666665,
          5,
          null,
          3.75,
          3.4166666666666665,
          4,
          null,
          3.857142857142857,
          2.8333333333333335,
          null,
          4.333333333333333,
          null,
          null,
          null,
          3.5,
          4,
          3.5,
          null,
          4.5,
          3.25,
          null,
          4,
          3.6666666666666665,
          2.9140625,
          null,
          3.75,
          null,
          3.5,
          3.8,
          null,
          3.5,
          null,
          null,
          4,
          null,
          null,
          2,
          3.5,
          3.7,
          null,
          4,
          3.5,
          3.5,
          2.875
         ]
        },
        {
         "boxpoints": false,
         "line": {
          "width": 1.3
         },
         "marker": {
          "color": "rgba(251, 128, 114, 1.0)"
         },
         "name": "2009",
         "orientation": "v",
         "type": "box",
         "y": [
          3.875,
          3.5,
          3.84375,
          null,
          3.5,
          null,
          null,
          null,
          4,
          3.6666666666666665,
          3.995798319327731,
          4.014925373134329,
          2.75,
          2.5,
          4.75,
          4,
          4.333333333333333,
          3.75,
          3.25,
          4,
          null,
          null,
          null,
          null,
          3,
          null,
          4.5,
          3.9375,
          null,
          3,
          null,
          4,
          null,
          3.25,
          4,
          4,
          null,
          3,
          3.857142857142857,
          null,
          3,
          3.9285714285714284,
          3.1666666666666665,
          2,
          4,
          null,
          null,
          3,
          3,
          3.75,
          1.6666666666666667,
          null,
          null,
          null,
          null,
          null,
          null,
          2.767857142857143,
          2,
          3.875,
          null,
          3.25,
          3.8,
          null,
          null,
          4,
          null,
          4.5,
          null,
          null,
          3.5,
          3.6666666666666665,
          3.85,
          null,
          3,
          3,
          null,
          4.125
         ]
        },
        {
         "boxpoints": false,
         "line": {
          "width": 1.3
         },
         "marker": {
          "color": "rgba(128, 177, 211, 1.0)"
         },
         "name": "2010",
         "orientation": "v",
         "type": "box",
         "y": [
          3.857142857142857,
          3.71875,
          3.7555555555555555,
          2.5,
          3,
          null,
          4,
          null,
          3.4347826086956523,
          4,
          3.9597701149425286,
          3.885135135135135,
          4,
          4,
          4.416666666666667,
          3.5833333333333335,
          2,
          null,
          null,
          4,
          3.466666666666667,
          null,
          null,
          null,
          2.75,
          null,
          4,
          4.25,
          4.375,
          null,
          4,
          4,
          null,
          3.9444444444444446,
          null,
          null,
          null,
          3.8333333333333335,
          3,
          null,
          3.9285714285714284,
          3.875,
          3.1333333333333333,
          3.625,
          4.5,
          null,
          4.5,
          4.5,
          3.5,
          4.166666666666667,
          2,
          4.142857142857143,
          4.1,
          3.5,
          null,
          4.1923076923076925,
          5,
          2.556603773584906,
          3.5,
          4,
          null,
          3.75,
          3.5,
          3.5,
          null,
          4.083333333333333,
          null,
          4.5,
          3.75,
          4,
          4.166666666666667,
          3.1875,
          3.5,
          null,
          3.8333333333333335,
          3.375,
          null,
          3.75
         ]
        },
        {
         "boxpoints": false,
         "line": {
          "width": 1.3
         },
         "marker": {
          "color": "rgba(128, 177, 211, 0.8999999999999999)"
         },
         "name": "2011",
         "orientation": "v",
         "type": "box",
         "y": [
          4,
          3.75,
          3.7948717948717947,
          2,
          4,
          3.840909090909091,
          3.5,
          3.5,
          3.6923076923076925,
          4.5,
          3.8647798742138364,
          3.7142857142857144,
          3.5,
          null,
          3.975609756097561,
          3.85,
          3.8333333333333335,
          4,
          null,
          3.5,
          3.725,
          4,
          4,
          null,
          3.8333333333333335,
          5,
          null,
          3.9545454545454546,
          3.75,
          4,
          3.6818181818181817,
          null,
          null,
          3.8529411764705883,
          null,
          null,
          2,
          3.7222222222222223,
          3.25,
          null,
          4.2,
          3.9,
          2.7,
          3.25,
          4,
          3.6666666666666665,
          null,
          null,
          3.5,
          3.25,
          3.5,
          3.25,
          3.75,
          null,
          null,
          4,
          3.5,
          2.1826923076923075,
          3,
          3.375,
          4.5,
          3.75,
          3.8333333333333335,
          3,
          3.875,
          4.189655172413793,
          4,
          4.12,
          4,
          3.857142857142857,
          3.75,
          4,
          3.642857142857143,
          3.8125,
          null,
          3.5,
          4,
          3.5
         ]
        },
        {
         "boxpoints": false,
         "line": {
          "width": 1.3
         },
         "marker": {
          "color": "rgba(255, 153, 51, 0.8999999999999999)"
         },
         "name": "2012",
         "orientation": "v",
         "type": "box",
         "y": [
          null,
          null,
          4,
          null,
          null,
          null,
          null,
          null,
          null,
          null,
          4,
          4,
          null,
          null,
          4,
          null,
          null,
          null,
          null,
          null,
          3.5,
          null,
          null,
          null,
          null,
          null,
          null,
          null,
          null,
          null,
          null,
          null,
          null,
          null,
          null,
          null,
          null,
          null,
          null,
          null,
          null,
          null,
          null,
          null,
          null,
          null,
          null,
          null,
          null,
          null,
          null,
          3,
          null,
          null,
          null,
          null,
          null,
          2,
          null,
          null,
          null,
          null,
          null,
          null,
          null,
          4.5,
          null,
          null,
          null,
          null,
          null,
          null,
          null,
          null,
          null,
          null,
          null,
          null
         ]
        }
       ],
       "layout": {
        "annotations": [
         {
          "arrowcolor": "red",
          "arrowhead": 5,
          "ax": -7,
          "ay": 70,
          "font": {
           "color": "red",
           "size": 20
          },
          "hovertext": "",
          "opacity": 1,
          "showarrow": true,
          "text": "Winner!",
          "textangle": -1,
          "x": "0.17",
          "xref": "paper",
          "y": "2.5",
          "yref": "y"
         }
        ],
        "height": 500,
        "legend": {
         "bgcolor": "#F5F6F9",
         "font": {
          "color": "#4D5663"
         }
        },
        "paper_bgcolor": "#F5F6F9",
        "plot_bgcolor": "#F5F6F9",
        "template": {
         "data": {
          "bar": [
           {
            "error_x": {
             "color": "#2a3f5f"
            },
            "error_y": {
             "color": "#2a3f5f"
            },
            "marker": {
             "line": {
              "color": "#E5ECF6",
              "width": 0.5
             },
             "pattern": {
              "fillmode": "overlay",
              "size": 10,
              "solidity": 0.2
             }
            },
            "type": "bar"
           }
          ],
          "barpolar": [
           {
            "marker": {
             "line": {
              "color": "#E5ECF6",
              "width": 0.5
             },
             "pattern": {
              "fillmode": "overlay",
              "size": 10,
              "solidity": 0.2
             }
            },
            "type": "barpolar"
           }
          ],
          "carpet": [
           {
            "aaxis": {
             "endlinecolor": "#2a3f5f",
             "gridcolor": "white",
             "linecolor": "white",
             "minorgridcolor": "white",
             "startlinecolor": "#2a3f5f"
            },
            "baxis": {
             "endlinecolor": "#2a3f5f",
             "gridcolor": "white",
             "linecolor": "white",
             "minorgridcolor": "white",
             "startlinecolor": "#2a3f5f"
            },
            "type": "carpet"
           }
          ],
          "choropleth": [
           {
            "colorbar": {
             "outlinewidth": 0,
             "ticks": ""
            },
            "type": "choropleth"
           }
          ],
          "contour": [
           {
            "colorbar": {
             "outlinewidth": 0,
             "ticks": ""
            },
            "colorscale": [
             [
              0,
              "#0d0887"
             ],
             [
              0.1111111111111111,
              "#46039f"
             ],
             [
              0.2222222222222222,
              "#7201a8"
             ],
             [
              0.3333333333333333,
              "#9c179e"
             ],
             [
              0.4444444444444444,
              "#bd3786"
             ],
             [
              0.5555555555555556,
              "#d8576b"
             ],
             [
              0.6666666666666666,
              "#ed7953"
             ],
             [
              0.7777777777777778,
              "#fb9f3a"
             ],
             [
              0.8888888888888888,
              "#fdca26"
             ],
             [
              1,
              "#f0f921"
             ]
            ],
            "type": "contour"
           }
          ],
          "contourcarpet": [
           {
            "colorbar": {
             "outlinewidth": 0,
             "ticks": ""
            },
            "type": "contourcarpet"
           }
          ],
          "heatmap": [
           {
            "colorbar": {
             "outlinewidth": 0,
             "ticks": ""
            },
            "colorscale": [
             [
              0,
              "#0d0887"
             ],
             [
              0.1111111111111111,
              "#46039f"
             ],
             [
              0.2222222222222222,
              "#7201a8"
             ],
             [
              0.3333333333333333,
              "#9c179e"
             ],
             [
              0.4444444444444444,
              "#bd3786"
             ],
             [
              0.5555555555555556,
              "#d8576b"
             ],
             [
              0.6666666666666666,
              "#ed7953"
             ],
             [
              0.7777777777777778,
              "#fb9f3a"
             ],
             [
              0.8888888888888888,
              "#fdca26"
             ],
             [
              1,
              "#f0f921"
             ]
            ],
            "type": "heatmap"
           }
          ],
          "heatmapgl": [
           {
            "colorbar": {
             "outlinewidth": 0,
             "ticks": ""
            },
            "colorscale": [
             [
              0,
              "#0d0887"
             ],
             [
              0.1111111111111111,
              "#46039f"
             ],
             [
              0.2222222222222222,
              "#7201a8"
             ],
             [
              0.3333333333333333,
              "#9c179e"
             ],
             [
              0.4444444444444444,
              "#bd3786"
             ],
             [
              0.5555555555555556,
              "#d8576b"
             ],
             [
              0.6666666666666666,
              "#ed7953"
             ],
             [
              0.7777777777777778,
              "#fb9f3a"
             ],
             [
              0.8888888888888888,
              "#fdca26"
             ],
             [
              1,
              "#f0f921"
             ]
            ],
            "type": "heatmapgl"
           }
          ],
          "histogram": [
           {
            "marker": {
             "pattern": {
              "fillmode": "overlay",
              "size": 10,
              "solidity": 0.2
             }
            },
            "type": "histogram"
           }
          ],
          "histogram2d": [
           {
            "colorbar": {
             "outlinewidth": 0,
             "ticks": ""
            },
            "colorscale": [
             [
              0,
              "#0d0887"
             ],
             [
              0.1111111111111111,
              "#46039f"
             ],
             [
              0.2222222222222222,
              "#7201a8"
             ],
             [
              0.3333333333333333,
              "#9c179e"
             ],
             [
              0.4444444444444444,
              "#bd3786"
             ],
             [
              0.5555555555555556,
              "#d8576b"
             ],
             [
              0.6666666666666666,
              "#ed7953"
             ],
             [
              0.7777777777777778,
              "#fb9f3a"
             ],
             [
              0.8888888888888888,
              "#fdca26"
             ],
             [
              1,
              "#f0f921"
             ]
            ],
            "type": "histogram2d"
           }
          ],
          "histogram2dcontour": [
           {
            "colorbar": {
             "outlinewidth": 0,
             "ticks": ""
            },
            "colorscale": [
             [
              0,
              "#0d0887"
             ],
             [
              0.1111111111111111,
              "#46039f"
             ],
             [
              0.2222222222222222,
              "#7201a8"
             ],
             [
              0.3333333333333333,
              "#9c179e"
             ],
             [
              0.4444444444444444,
              "#bd3786"
             ],
             [
              0.5555555555555556,
              "#d8576b"
             ],
             [
              0.6666666666666666,
              "#ed7953"
             ],
             [
              0.7777777777777778,
              "#fb9f3a"
             ],
             [
              0.8888888888888888,
              "#fdca26"
             ],
             [
              1,
              "#f0f921"
             ]
            ],
            "type": "histogram2dcontour"
           }
          ],
          "mesh3d": [
           {
            "colorbar": {
             "outlinewidth": 0,
             "ticks": ""
            },
            "type": "mesh3d"
           }
          ],
          "parcoords": [
           {
            "line": {
             "colorbar": {
              "outlinewidth": 0,
              "ticks": ""
             }
            },
            "type": "parcoords"
           }
          ],
          "pie": [
           {
            "automargin": true,
            "type": "pie"
           }
          ],
          "scatter": [
           {
            "marker": {
             "colorbar": {
              "outlinewidth": 0,
              "ticks": ""
             }
            },
            "type": "scatter"
           }
          ],
          "scatter3d": [
           {
            "line": {
             "colorbar": {
              "outlinewidth": 0,
              "ticks": ""
             }
            },
            "marker": {
             "colorbar": {
              "outlinewidth": 0,
              "ticks": ""
             }
            },
            "type": "scatter3d"
           }
          ],
          "scattercarpet": [
           {
            "marker": {
             "colorbar": {
              "outlinewidth": 0,
              "ticks": ""
             }
            },
            "type": "scattercarpet"
           }
          ],
          "scattergeo": [
           {
            "marker": {
             "colorbar": {
              "outlinewidth": 0,
              "ticks": ""
             }
            },
            "type": "scattergeo"
           }
          ],
          "scattergl": [
           {
            "marker": {
             "colorbar": {
              "outlinewidth": 0,
              "ticks": ""
             }
            },
            "type": "scattergl"
           }
          ],
          "scattermapbox": [
           {
            "marker": {
             "colorbar": {
              "outlinewidth": 0,
              "ticks": ""
             }
            },
            "type": "scattermapbox"
           }
          ],
          "scatterpolar": [
           {
            "marker": {
             "colorbar": {
              "outlinewidth": 0,
              "ticks": ""
             }
            },
            "type": "scatterpolar"
           }
          ],
          "scatterpolargl": [
           {
            "marker": {
             "colorbar": {
              "outlinewidth": 0,
              "ticks": ""
             }
            },
            "type": "scatterpolargl"
           }
          ],
          "scatterternary": [
           {
            "marker": {
             "colorbar": {
              "outlinewidth": 0,
              "ticks": ""
             }
            },
            "type": "scatterternary"
           }
          ],
          "surface": [
           {
            "colorbar": {
             "outlinewidth": 0,
             "ticks": ""
            },
            "colorscale": [
             [
              0,
              "#0d0887"
             ],
             [
              0.1111111111111111,
              "#46039f"
             ],
             [
              0.2222222222222222,
              "#7201a8"
             ],
             [
              0.3333333333333333,
              "#9c179e"
             ],
             [
              0.4444444444444444,
              "#bd3786"
             ],
             [
              0.5555555555555556,
              "#d8576b"
             ],
             [
              0.6666666666666666,
              "#ed7953"
             ],
             [
              0.7777777777777778,
              "#fb9f3a"
             ],
             [
              0.8888888888888888,
              "#fdca26"
             ],
             [
              1,
              "#f0f921"
             ]
            ],
            "type": "surface"
           }
          ],
          "table": [
           {
            "cells": {
             "fill": {
              "color": "#EBF0F8"
             },
             "line": {
              "color": "white"
             }
            },
            "header": {
             "fill": {
              "color": "#C8D4E3"
             },
             "line": {
              "color": "white"
             }
            },
            "type": "table"
           }
          ]
         },
         "layout": {
          "annotationdefaults": {
           "arrowcolor": "#2a3f5f",
           "arrowhead": 0,
           "arrowwidth": 1
          },
          "autotypenumbers": "strict",
          "coloraxis": {
           "colorbar": {
            "outlinewidth": 0,
            "ticks": ""
           }
          },
          "colorscale": {
           "diverging": [
            [
             0,
             "#8e0152"
            ],
            [
             0.1,
             "#c51b7d"
            ],
            [
             0.2,
             "#de77ae"
            ],
            [
             0.3,
             "#f1b6da"
            ],
            [
             0.4,
             "#fde0ef"
            ],
            [
             0.5,
             "#f7f7f7"
            ],
            [
             0.6,
             "#e6f5d0"
            ],
            [
             0.7,
             "#b8e186"
            ],
            [
             0.8,
             "#7fbc41"
            ],
            [
             0.9,
             "#4d9221"
            ],
            [
             1,
             "#276419"
            ]
           ],
           "sequential": [
            [
             0,
             "#0d0887"
            ],
            [
             0.1111111111111111,
             "#46039f"
            ],
            [
             0.2222222222222222,
             "#7201a8"
            ],
            [
             0.3333333333333333,
             "#9c179e"
            ],
            [
             0.4444444444444444,
             "#bd3786"
            ],
            [
             0.5555555555555556,
             "#d8576b"
            ],
            [
             0.6666666666666666,
             "#ed7953"
            ],
            [
             0.7777777777777778,
             "#fb9f3a"
            ],
            [
             0.8888888888888888,
             "#fdca26"
            ],
            [
             1,
             "#f0f921"
            ]
           ],
           "sequentialminus": [
            [
             0,
             "#0d0887"
            ],
            [
             0.1111111111111111,
             "#46039f"
            ],
            [
             0.2222222222222222,
             "#7201a8"
            ],
            [
             0.3333333333333333,
             "#9c179e"
            ],
            [
             0.4444444444444444,
             "#bd3786"
            ],
            [
             0.5555555555555556,
             "#d8576b"
            ],
            [
             0.6666666666666666,
             "#ed7953"
            ],
            [
             0.7777777777777778,
             "#fb9f3a"
            ],
            [
             0.8888888888888888,
             "#fdca26"
            ],
            [
             1,
             "#f0f921"
            ]
           ]
          },
          "colorway": [
           "#636efa",
           "#EF553B",
           "#00cc96",
           "#ab63fa",
           "#FFA15A",
           "#19d3f3",
           "#FF6692",
           "#B6E880",
           "#FF97FF",
           "#FECB52"
          ],
          "font": {
           "color": "#2a3f5f"
          },
          "geo": {
           "bgcolor": "white",
           "lakecolor": "white",
           "landcolor": "#E5ECF6",
           "showlakes": true,
           "showland": true,
           "subunitcolor": "white"
          },
          "hoverlabel": {
           "align": "left"
          },
          "hovermode": "closest",
          "mapbox": {
           "style": "light"
          },
          "paper_bgcolor": "white",
          "plot_bgcolor": "#E5ECF6",
          "polar": {
           "angularaxis": {
            "gridcolor": "white",
            "linecolor": "white",
            "ticks": ""
           },
           "bgcolor": "#E5ECF6",
           "radialaxis": {
            "gridcolor": "white",
            "linecolor": "white",
            "ticks": ""
           }
          },
          "scene": {
           "xaxis": {
            "backgroundcolor": "#E5ECF6",
            "gridcolor": "white",
            "gridwidth": 2,
            "linecolor": "white",
            "showbackground": true,
            "ticks": "",
            "zerolinecolor": "white"
           },
           "yaxis": {
            "backgroundcolor": "#E5ECF6",
            "gridcolor": "white",
            "gridwidth": 2,
            "linecolor": "white",
            "showbackground": true,
            "ticks": "",
            "zerolinecolor": "white"
           },
           "zaxis": {
            "backgroundcolor": "#E5ECF6",
            "gridcolor": "white",
            "gridwidth": 2,
            "linecolor": "white",
            "showbackground": true,
            "ticks": "",
            "zerolinecolor": "white"
           }
          },
          "shapedefaults": {
           "line": {
            "color": "#2a3f5f"
           }
          },
          "ternary": {
           "aaxis": {
            "gridcolor": "white",
            "linecolor": "white",
            "ticks": ""
           },
           "baxis": {
            "gridcolor": "white",
            "linecolor": "white",
            "ticks": ""
           },
           "bgcolor": "#E5ECF6",
           "caxis": {
            "gridcolor": "white",
            "linecolor": "white",
            "ticks": ""
           }
          },
          "title": {
           "x": 0.05
          },
          "xaxis": {
           "automargin": true,
           "gridcolor": "white",
           "linecolor": "white",
           "ticks": "",
           "title": {
            "standoff": 15
           },
           "zerolinecolor": "white",
           "zerolinewidth": 2
          },
          "yaxis": {
           "automargin": true,
           "gridcolor": "white",
           "linecolor": "white",
           "ticks": "",
           "title": {
            "standoff": 15
           },
           "zerolinecolor": "white",
           "zerolinewidth": 2
          }
         }
        },
        "title": {
         "font": {
          "color": "#4D5663"
         },
         "text": "Overall Beer Rating between 1998-2012"
        },
        "width": 700,
        "xaxis": {
         "gridcolor": "#E1E5ED",
         "showgrid": true,
         "tickfont": {
          "color": "#4D5663"
         },
         "title": {
          "font": {
           "color": "#4D5663"
          },
          "text": "Year"
         },
         "zerolinecolor": "#E1E5ED"
        },
        "yaxis": {
         "gridcolor": "#E1E5ED",
         "showgrid": true,
         "tickfont": {
          "color": "#4D5663"
         },
         "title": {
          "font": {
           "color": "#4D5663"
          },
          "text": "Beer Rating (scale of 1-5)"
         },
         "zerolinecolor": "#E1E5ED"
        }
       }
      },
      "text/html": [
       "<div>                            <div id=\"e16eced7-dc3c-4328-adc0-a896fa07cbba\" class=\"plotly-graph-div\" style=\"height:500px; width:700px;\"></div>            <script type=\"text/javascript\">                require([\"plotly\"], function(Plotly) {                    window.PLOTLYENV=window.PLOTLYENV || {};\n",
       "                    window.PLOTLYENV.BASE_URL='https://plot.ly';                                    if (document.getElementById(\"e16eced7-dc3c-4328-adc0-a896fa07cbba\")) {                    Plotly.newPlot(                        \"e16eced7-dc3c-4328-adc0-a896fa07cbba\",                        [{\"boxpoints\":false,\"line\":{\"width\":1.3},\"marker\":{\"color\":\"rgba(255, 153, 51, 1.0)\"},\"name\":\"2001\",\"orientation\":\"v\",\"type\":\"box\",\"y\":[null,null,null,null,null,null,null,null,null,null,null,3.0,null,null,null,null,null,null,null,null,null,null,null,3.0,null,null,null,null,null,null,null,null,null,null,null,null,null,null,null,null,null,null,null,null,null,null,null,null,null,null,null,null,null,null,null,null,null,3.0,null,null,null,null,null,null,null,null,null,null,null,null,null,null,5.0,null,null,null,null,null]},{\"boxpoints\":false,\"line\":{\"width\":1.3},\"marker\":{\"color\":\"rgba(55, 128, 191, 1.0)\"},\"name\":\"2002\",\"orientation\":\"v\",\"type\":\"box\",\"y\":[null,null,null,1.5,null,null,null,null,null,null,3.8333333333333335,4.0,null,null,4.5,null,null,null,null,4.0,null,null,null,3.5,null,null,null,null,null,null,null,null,null,null,null,null,null,null,null,null,null,null,3.1666666666666665,null,4.5,null,null,null,null,4.5,4.25,null,null,null,null,null,3.0,2.673076923076923,null,null,null,null,null,null,null,null,null,null,null,null,null,null,null,null,null,null,null,null]},{\"boxpoints\":false,\"line\":{\"width\":1.3},\"marker\":{\"color\":\"rgba(50, 171, 96, 1.0)\"},\"name\":\"2003\",\"orientation\":\"v\",\"type\":\"box\",\"y\":[null,null,4.0,null,null,null,null,null,null,null,4.0,3.5,4.0,null,4.0,4.25,null,null,null,null,null,null,null,null,null,null,null,3.75,3.0,null,null,null,null,null,3.75,null,null,4.0,null,null,null,null,2.4,null,null,null,null,null,null,null,3.1666666666666665,null,null,null,null,null,null,2.7127659574468086,null,null,null,3.5,3.8333333333333335,null,null,4.0,null,null,null,null,null,3.5,4.0,null,null,3.8333333333333335,null,1.0]},{\"boxpoints\":false,\"line\":{\"width\":1.3},\"marker\":{\"color\":\"rgba(128, 0, 128, 1.0)\"},\"name\":\"2004\",\"orientation\":\"v\",\"type\":\"box\",\"y\":[4.0,null,3.5,null,4.0,null,null,null,null,null,4.0,3.3,null,2.5,2.5,3.4,5.0,null,null,null,null,null,null,null,3.5,null,null,4.25,null,3.0,null,4.5,4.125,4.5,4.0,null,null,null,null,4.0,null,3.5,2.7142857142857144,null,3.75,null,null,null,null,3.0,3.5,null,3.5,null,null,null,4.0,2.36,null,3.25,null,4.0,3.875,2.0,null,null,null,3.0,null,null,null,4.133333333333334,4.0,null,null,3.5,null,3.8333333333333335]},{\"boxpoints\":false,\"line\":{\"width\":1.3},\"marker\":{\"color\":\"rgba(219, 64, 82, 1.0)\"},\"name\":\"2005\",\"orientation\":\"v\",\"type\":\"box\",\"y\":[4.0,null,3.8333333333333335,null,null,null,null,1.5,null,null,3.8125,4.125,null,3.625,3.875,3.8333333333333335,null,null,null,null,null,null,null,null,4.5,null,null,3.7,null,null,null,3.0,null,4.0,3.125,null,3.5,4.333333333333333,null,null,null,3.8,2.7142857142857144,2.75,4.25,null,null,null,null,null,3.75,null,null,null,3.5,null,3.75,3.0,2.0,4.0,null,4.0,3.5,null,4.5,null,null,null,4.5,null,null,3.590909090909091,3.9,null,null,null,null,4.0]},{\"boxpoints\":false,\"line\":{\"width\":1.3},\"marker\":{\"color\":\"rgba(0, 128, 128, 1.0)\"},\"name\":\"2006\",\"orientation\":\"v\",\"type\":\"box\",\"y\":[null,null,3.5,3.5,null,null,null,2.0,4.0,null,3.9545454545454546,3.9615384615384617,null,3.5,4.083333333333333,3.0,null,null,null,null,null,null,null,3.5,3.0,null,null,3.65,null,null,null,null,null,3.5,2.0,3.5,null,4.0,null,null,null,3.875,3.3,1.5,3.875,null,null,null,3.0,2.75,3.75,2.5,null,null,null,null,4.0,2.925925925925926,2.0,null,3.5,3.0,3.75,4.25,2.75,null,null,4.0,null,5.0,4.5,3.736842105263158,4.4,null,null,null,null,3.9]},{\"boxpoints\":false,\"line\":{\"width\":1.3},\"marker\":{\"color\":\"rgba(255, 255, 51, 1.0)\"},\"name\":\"2007\",\"orientation\":\"v\",\"type\":\"box\",\"y\":[4.0,3.0,4.0,3.0,5.0,null,3.0,null,null,4.5,4.105263157894737,3.966666666666667,null,null,4.0,3.75,null,null,null,null,null,null,null,null,4.0,null,null,3.6666666666666665,null,4.0,null,null,3.75,4.5,null,null,null,4.0,4.5,null,null,4.75,2.7222222222222223,null,4.166666666666667,null,null,null,3.3333333333333335,3.5,3.75,null,null,null,null,4.0,null,2.9210526315789473,null,2.0,null,2.3333333333333335,3.75,null,null,null,null,null,4.5,null,null,3.625,3.8333333333333335,null,3.8333333333333335,4.0,null,3.8333333333333335]},{\"boxpoints\":false,\"line\":{\"width\":1.3},\"marker\":{\"color\":\"rgba(128, 128, 0, 1.0)\"},\"name\":\"2008\",\"orientation\":\"v\",\"type\":\"box\",\"y\":[3.6,3.8333333333333335,4.0,4.5,4.0,null,null,4.166666666666667,3.5,3.875,3.923076923076923,3.9696969696969697,null,null,4.0,4.0,4.0,null,null,4.0,null,1.5,null,null,4.0,null,4.0,3.5,null,null,null,null,null,3.5,3.6666666666666665,5.0,null,3.75,3.4166666666666665,4.0,null,3.857142857142857,2.8333333333333335,null,4.333333333333333,null,null,null,3.5,4.0,3.5,null,4.5,3.25,null,4.0,3.6666666666666665,2.9140625,null,3.75,null,3.5,3.8,null,3.5,null,null,4.0,null,null,2.0,3.5,3.7,null,4.0,3.5,3.5,2.875]},{\"boxpoints\":false,\"line\":{\"width\":1.3},\"marker\":{\"color\":\"rgba(251, 128, 114, 1.0)\"},\"name\":\"2009\",\"orientation\":\"v\",\"type\":\"box\",\"y\":[3.875,3.5,3.84375,null,3.5,null,null,null,4.0,3.6666666666666665,3.995798319327731,4.014925373134329,2.75,2.5,4.75,4.0,4.333333333333333,3.75,3.25,4.0,null,null,null,null,3.0,null,4.5,3.9375,null,3.0,null,4.0,null,3.25,4.0,4.0,null,3.0,3.857142857142857,null,3.0,3.9285714285714284,3.1666666666666665,2.0,4.0,null,null,3.0,3.0,3.75,1.6666666666666667,null,null,null,null,null,null,2.767857142857143,2.0,3.875,null,3.25,3.8,null,null,4.0,null,4.5,null,null,3.5,3.6666666666666665,3.85,null,3.0,3.0,null,4.125]},{\"boxpoints\":false,\"line\":{\"width\":1.3},\"marker\":{\"color\":\"rgba(128, 177, 211, 1.0)\"},\"name\":\"2010\",\"orientation\":\"v\",\"type\":\"box\",\"y\":[3.857142857142857,3.71875,3.7555555555555555,2.5,3.0,null,4.0,null,3.4347826086956523,4.0,3.9597701149425286,3.885135135135135,4.0,4.0,4.416666666666667,3.5833333333333335,2.0,null,null,4.0,3.466666666666667,null,null,null,2.75,null,4.0,4.25,4.375,null,4.0,4.0,null,3.9444444444444446,null,null,null,3.8333333333333335,3.0,null,3.9285714285714284,3.875,3.1333333333333333,3.625,4.5,null,4.5,4.5,3.5,4.166666666666667,2.0,4.142857142857143,4.1,3.5,null,4.1923076923076925,5.0,2.556603773584906,3.5,4.0,null,3.75,3.5,3.5,null,4.083333333333333,null,4.5,3.75,4.0,4.166666666666667,3.1875,3.5,null,3.8333333333333335,3.375,null,3.75]},{\"boxpoints\":false,\"line\":{\"width\":1.3},\"marker\":{\"color\":\"rgba(128, 177, 211, 0.8999999999999999)\"},\"name\":\"2011\",\"orientation\":\"v\",\"type\":\"box\",\"y\":[4.0,3.75,3.7948717948717947,2.0,4.0,3.840909090909091,3.5,3.5,3.6923076923076925,4.5,3.8647798742138364,3.7142857142857144,3.5,null,3.975609756097561,3.85,3.8333333333333335,4.0,null,3.5,3.725,4.0,4.0,null,3.8333333333333335,5.0,null,3.9545454545454546,3.75,4.0,3.6818181818181817,null,null,3.8529411764705883,null,null,2.0,3.7222222222222223,3.25,null,4.2,3.9,2.7,3.25,4.0,3.6666666666666665,null,null,3.5,3.25,3.5,3.25,3.75,null,null,4.0,3.5,2.1826923076923075,3.0,3.375,4.5,3.75,3.8333333333333335,3.0,3.875,4.189655172413793,4.0,4.12,4.0,3.857142857142857,3.75,4.0,3.642857142857143,3.8125,null,3.5,4.0,3.5]},{\"boxpoints\":false,\"line\":{\"width\":1.3},\"marker\":{\"color\":\"rgba(255, 153, 51, 0.8999999999999999)\"},\"name\":\"2012\",\"orientation\":\"v\",\"type\":\"box\",\"y\":[null,null,4.0,null,null,null,null,null,null,null,4.0,4.0,null,null,4.0,null,null,null,null,null,3.5,null,null,null,null,null,null,null,null,null,null,null,null,null,null,null,null,null,null,null,null,null,null,null,null,null,null,null,null,null,null,3.0,null,null,null,null,null,2.0,null,null,null,null,null,null,null,4.5,null,null,null,null,null,null,null,null,null,null,null,null]}],                        {\"annotations\":[{\"arrowcolor\":\"red\",\"arrowhead\":5,\"ax\":-7,\"ay\":70,\"font\":{\"color\":\"red\",\"size\":20},\"hovertext\":\"\",\"opacity\":1,\"showarrow\":true,\"text\":\"Winner!\",\"textangle\":-1,\"x\":\"0.17\",\"xref\":\"paper\",\"y\":\"2.5\",\"yref\":\"y\"}],\"height\":500,\"legend\":{\"bgcolor\":\"#F5F6F9\",\"font\":{\"color\":\"#4D5663\"}},\"paper_bgcolor\":\"#F5F6F9\",\"plot_bgcolor\":\"#F5F6F9\",\"template\":{\"data\":{\"bar\":[{\"error_x\":{\"color\":\"#2a3f5f\"},\"error_y\":{\"color\":\"#2a3f5f\"},\"marker\":{\"line\":{\"color\":\"#E5ECF6\",\"width\":0.5},\"pattern\":{\"fillmode\":\"overlay\",\"size\":10,\"solidity\":0.2}},\"type\":\"bar\"}],\"barpolar\":[{\"marker\":{\"line\":{\"color\":\"#E5ECF6\",\"width\":0.5},\"pattern\":{\"fillmode\":\"overlay\",\"size\":10,\"solidity\":0.2}},\"type\":\"barpolar\"}],\"carpet\":[{\"aaxis\":{\"endlinecolor\":\"#2a3f5f\",\"gridcolor\":\"white\",\"linecolor\":\"white\",\"minorgridcolor\":\"white\",\"startlinecolor\":\"#2a3f5f\"},\"baxis\":{\"endlinecolor\":\"#2a3f5f\",\"gridcolor\":\"white\",\"linecolor\":\"white\",\"minorgridcolor\":\"white\",\"startlinecolor\":\"#2a3f5f\"},\"type\":\"carpet\"}],\"choropleth\":[{\"colorbar\":{\"outlinewidth\":0,\"ticks\":\"\"},\"type\":\"choropleth\"}],\"contour\":[{\"colorbar\":{\"outlinewidth\":0,\"ticks\":\"\"},\"colorscale\":[[0.0,\"#0d0887\"],[0.1111111111111111,\"#46039f\"],[0.2222222222222222,\"#7201a8\"],[0.3333333333333333,\"#9c179e\"],[0.4444444444444444,\"#bd3786\"],[0.5555555555555556,\"#d8576b\"],[0.6666666666666666,\"#ed7953\"],[0.7777777777777778,\"#fb9f3a\"],[0.8888888888888888,\"#fdca26\"],[1.0,\"#f0f921\"]],\"type\":\"contour\"}],\"contourcarpet\":[{\"colorbar\":{\"outlinewidth\":0,\"ticks\":\"\"},\"type\":\"contourcarpet\"}],\"heatmap\":[{\"colorbar\":{\"outlinewidth\":0,\"ticks\":\"\"},\"colorscale\":[[0.0,\"#0d0887\"],[0.1111111111111111,\"#46039f\"],[0.2222222222222222,\"#7201a8\"],[0.3333333333333333,\"#9c179e\"],[0.4444444444444444,\"#bd3786\"],[0.5555555555555556,\"#d8576b\"],[0.6666666666666666,\"#ed7953\"],[0.7777777777777778,\"#fb9f3a\"],[0.8888888888888888,\"#fdca26\"],[1.0,\"#f0f921\"]],\"type\":\"heatmap\"}],\"heatmapgl\":[{\"colorbar\":{\"outlinewidth\":0,\"ticks\":\"\"},\"colorscale\":[[0.0,\"#0d0887\"],[0.1111111111111111,\"#46039f\"],[0.2222222222222222,\"#7201a8\"],[0.3333333333333333,\"#9c179e\"],[0.4444444444444444,\"#bd3786\"],[0.5555555555555556,\"#d8576b\"],[0.6666666666666666,\"#ed7953\"],[0.7777777777777778,\"#fb9f3a\"],[0.8888888888888888,\"#fdca26\"],[1.0,\"#f0f921\"]],\"type\":\"heatmapgl\"}],\"histogram\":[{\"marker\":{\"pattern\":{\"fillmode\":\"overlay\",\"size\":10,\"solidity\":0.2}},\"type\":\"histogram\"}],\"histogram2d\":[{\"colorbar\":{\"outlinewidth\":0,\"ticks\":\"\"},\"colorscale\":[[0.0,\"#0d0887\"],[0.1111111111111111,\"#46039f\"],[0.2222222222222222,\"#7201a8\"],[0.3333333333333333,\"#9c179e\"],[0.4444444444444444,\"#bd3786\"],[0.5555555555555556,\"#d8576b\"],[0.6666666666666666,\"#ed7953\"],[0.7777777777777778,\"#fb9f3a\"],[0.8888888888888888,\"#fdca26\"],[1.0,\"#f0f921\"]],\"type\":\"histogram2d\"}],\"histogram2dcontour\":[{\"colorbar\":{\"outlinewidth\":0,\"ticks\":\"\"},\"colorscale\":[[0.0,\"#0d0887\"],[0.1111111111111111,\"#46039f\"],[0.2222222222222222,\"#7201a8\"],[0.3333333333333333,\"#9c179e\"],[0.4444444444444444,\"#bd3786\"],[0.5555555555555556,\"#d8576b\"],[0.6666666666666666,\"#ed7953\"],[0.7777777777777778,\"#fb9f3a\"],[0.8888888888888888,\"#fdca26\"],[1.0,\"#f0f921\"]],\"type\":\"histogram2dcontour\"}],\"mesh3d\":[{\"colorbar\":{\"outlinewidth\":0,\"ticks\":\"\"},\"type\":\"mesh3d\"}],\"parcoords\":[{\"line\":{\"colorbar\":{\"outlinewidth\":0,\"ticks\":\"\"}},\"type\":\"parcoords\"}],\"pie\":[{\"automargin\":true,\"type\":\"pie\"}],\"scatter\":[{\"marker\":{\"colorbar\":{\"outlinewidth\":0,\"ticks\":\"\"}},\"type\":\"scatter\"}],\"scatter3d\":[{\"line\":{\"colorbar\":{\"outlinewidth\":0,\"ticks\":\"\"}},\"marker\":{\"colorbar\":{\"outlinewidth\":0,\"ticks\":\"\"}},\"type\":\"scatter3d\"}],\"scattercarpet\":[{\"marker\":{\"colorbar\":{\"outlinewidth\":0,\"ticks\":\"\"}},\"type\":\"scattercarpet\"}],\"scattergeo\":[{\"marker\":{\"colorbar\":{\"outlinewidth\":0,\"ticks\":\"\"}},\"type\":\"scattergeo\"}],\"scattergl\":[{\"marker\":{\"colorbar\":{\"outlinewidth\":0,\"ticks\":\"\"}},\"type\":\"scattergl\"}],\"scattermapbox\":[{\"marker\":{\"colorbar\":{\"outlinewidth\":0,\"ticks\":\"\"}},\"type\":\"scattermapbox\"}],\"scatterpolar\":[{\"marker\":{\"colorbar\":{\"outlinewidth\":0,\"ticks\":\"\"}},\"type\":\"scatterpolar\"}],\"scatterpolargl\":[{\"marker\":{\"colorbar\":{\"outlinewidth\":0,\"ticks\":\"\"}},\"type\":\"scatterpolargl\"}],\"scatterternary\":[{\"marker\":{\"colorbar\":{\"outlinewidth\":0,\"ticks\":\"\"}},\"type\":\"scatterternary\"}],\"surface\":[{\"colorbar\":{\"outlinewidth\":0,\"ticks\":\"\"},\"colorscale\":[[0.0,\"#0d0887\"],[0.1111111111111111,\"#46039f\"],[0.2222222222222222,\"#7201a8\"],[0.3333333333333333,\"#9c179e\"],[0.4444444444444444,\"#bd3786\"],[0.5555555555555556,\"#d8576b\"],[0.6666666666666666,\"#ed7953\"],[0.7777777777777778,\"#fb9f3a\"],[0.8888888888888888,\"#fdca26\"],[1.0,\"#f0f921\"]],\"type\":\"surface\"}],\"table\":[{\"cells\":{\"fill\":{\"color\":\"#EBF0F8\"},\"line\":{\"color\":\"white\"}},\"header\":{\"fill\":{\"color\":\"#C8D4E3\"},\"line\":{\"color\":\"white\"}},\"type\":\"table\"}]},\"layout\":{\"annotationdefaults\":{\"arrowcolor\":\"#2a3f5f\",\"arrowhead\":0,\"arrowwidth\":1},\"autotypenumbers\":\"strict\",\"coloraxis\":{\"colorbar\":{\"outlinewidth\":0,\"ticks\":\"\"}},\"colorscale\":{\"diverging\":[[0,\"#8e0152\"],[0.1,\"#c51b7d\"],[0.2,\"#de77ae\"],[0.3,\"#f1b6da\"],[0.4,\"#fde0ef\"],[0.5,\"#f7f7f7\"],[0.6,\"#e6f5d0\"],[0.7,\"#b8e186\"],[0.8,\"#7fbc41\"],[0.9,\"#4d9221\"],[1,\"#276419\"]],\"sequential\":[[0.0,\"#0d0887\"],[0.1111111111111111,\"#46039f\"],[0.2222222222222222,\"#7201a8\"],[0.3333333333333333,\"#9c179e\"],[0.4444444444444444,\"#bd3786\"],[0.5555555555555556,\"#d8576b\"],[0.6666666666666666,\"#ed7953\"],[0.7777777777777778,\"#fb9f3a\"],[0.8888888888888888,\"#fdca26\"],[1.0,\"#f0f921\"]],\"sequentialminus\":[[0.0,\"#0d0887\"],[0.1111111111111111,\"#46039f\"],[0.2222222222222222,\"#7201a8\"],[0.3333333333333333,\"#9c179e\"],[0.4444444444444444,\"#bd3786\"],[0.5555555555555556,\"#d8576b\"],[0.6666666666666666,\"#ed7953\"],[0.7777777777777778,\"#fb9f3a\"],[0.8888888888888888,\"#fdca26\"],[1.0,\"#f0f921\"]]},\"colorway\":[\"#636efa\",\"#EF553B\",\"#00cc96\",\"#ab63fa\",\"#FFA15A\",\"#19d3f3\",\"#FF6692\",\"#B6E880\",\"#FF97FF\",\"#FECB52\"],\"font\":{\"color\":\"#2a3f5f\"},\"geo\":{\"bgcolor\":\"white\",\"lakecolor\":\"white\",\"landcolor\":\"#E5ECF6\",\"showlakes\":true,\"showland\":true,\"subunitcolor\":\"white\"},\"hoverlabel\":{\"align\":\"left\"},\"hovermode\":\"closest\",\"mapbox\":{\"style\":\"light\"},\"paper_bgcolor\":\"white\",\"plot_bgcolor\":\"#E5ECF6\",\"polar\":{\"angularaxis\":{\"gridcolor\":\"white\",\"linecolor\":\"white\",\"ticks\":\"\"},\"bgcolor\":\"#E5ECF6\",\"radialaxis\":{\"gridcolor\":\"white\",\"linecolor\":\"white\",\"ticks\":\"\"}},\"scene\":{\"xaxis\":{\"backgroundcolor\":\"#E5ECF6\",\"gridcolor\":\"white\",\"gridwidth\":2,\"linecolor\":\"white\",\"showbackground\":true,\"ticks\":\"\",\"zerolinecolor\":\"white\"},\"yaxis\":{\"backgroundcolor\":\"#E5ECF6\",\"gridcolor\":\"white\",\"gridwidth\":2,\"linecolor\":\"white\",\"showbackground\":true,\"ticks\":\"\",\"zerolinecolor\":\"white\"},\"zaxis\":{\"backgroundcolor\":\"#E5ECF6\",\"gridcolor\":\"white\",\"gridwidth\":2,\"linecolor\":\"white\",\"showbackground\":true,\"ticks\":\"\",\"zerolinecolor\":\"white\"}},\"shapedefaults\":{\"line\":{\"color\":\"#2a3f5f\"}},\"ternary\":{\"aaxis\":{\"gridcolor\":\"white\",\"linecolor\":\"white\",\"ticks\":\"\"},\"baxis\":{\"gridcolor\":\"white\",\"linecolor\":\"white\",\"ticks\":\"\"},\"bgcolor\":\"#E5ECF6\",\"caxis\":{\"gridcolor\":\"white\",\"linecolor\":\"white\",\"ticks\":\"\"}},\"title\":{\"x\":0.05},\"xaxis\":{\"automargin\":true,\"gridcolor\":\"white\",\"linecolor\":\"white\",\"ticks\":\"\",\"title\":{\"standoff\":15},\"zerolinecolor\":\"white\",\"zerolinewidth\":2},\"yaxis\":{\"automargin\":true,\"gridcolor\":\"white\",\"linecolor\":\"white\",\"ticks\":\"\",\"title\":{\"standoff\":15},\"zerolinecolor\":\"white\",\"zerolinewidth\":2}}},\"title\":{\"font\":{\"color\":\"#4D5663\"},\"text\":\"Overall Beer Rating between 1998-2012\"},\"width\":700,\"xaxis\":{\"gridcolor\":\"#E1E5ED\",\"showgrid\":true,\"tickfont\":{\"color\":\"#4D5663\"},\"title\":{\"font\":{\"color\":\"#4D5663\"},\"text\":\"Year\"},\"zerolinecolor\":\"#E1E5ED\"},\"yaxis\":{\"gridcolor\":\"#E1E5ED\",\"showgrid\":true,\"tickfont\":{\"color\":\"#4D5663\"},\"title\":{\"font\":{\"color\":\"#4D5663\"},\"text\":\"Beer Rating (scale of 1-5)\"},\"zerolinecolor\":\"#E1E5ED\"}},                        {\"showLink\": true, \"linkText\": \"Export to plot.ly\", \"plotlyServerURL\": \"https://plot.ly\", \"responsive\": true}                    ).then(function(){\n",
       "                            \n",
       "var gd = document.getElementById('e16eced7-dc3c-4328-adc0-a896fa07cbba');\n",
       "var x = new MutationObserver(function (mutations, observer) {{\n",
       "        var display = window.getComputedStyle(gd).display;\n",
       "        if (!display || display === 'none') {{\n",
       "            console.log([gd, 'removed!']);\n",
       "            Plotly.purge(gd);\n",
       "            observer.disconnect();\n",
       "        }}\n",
       "}});\n",
       "\n",
       "// Listen for the removal of the full notebook cells\n",
       "var notebookContainer = gd.closest('#notebook-container');\n",
       "if (notebookContainer) {{\n",
       "    x.observe(notebookContainer, {childList: true});\n",
       "}}\n",
       "\n",
       "// Listen for the clearing of the current output cell\n",
       "var outputEl = gd.closest('.output');\n",
       "if (outputEl) {{\n",
       "    x.observe(outputEl, {childList: true});\n",
       "}}\n",
       "\n",
       "                        })                };                });            </script>        </div>"
      ]
     },
     "metadata": {},
     "output_type": "display_data"
    }
   ],
   "source": [
    "dfbeerT.iplot(kind='box', dimensions=(700, 500), \n",
    "   title='Overall Beer Rating between 1998-2012',xTitle='Year',yTitle='Beer Rating (scale of 1-5)', annotations=[{'text':'Winner!','fontsize':20,'fontcolor':'red','x':'0.17','y':'2.5', 'xref':'paper','arrowhead':5, 'textangle':-1,'ay':70,'ax':-7,'arrowcolor':'red'}])"
   ]
  },
  {
   "cell_type": "markdown",
   "id": "8ef6bf51",
   "metadata": {},
   "source": [
    "### 3. Based on the user’s ratings which factors are important among taste, aroma, appearance, and palette?\n",
    "<a id='Q3'></a>"
   ]
  },
  {
   "cell_type": "markdown",
   "id": "ff52c639",
   "metadata": {},
   "source": [
    "#### Inspect data"
   ]
  },
  {
   "cell_type": "code",
   "execution_count": 12,
   "id": "a827beec",
   "metadata": {},
   "outputs": [
    {
     "data": {
      "text/html": [
       "<div>\n",
       "<style scoped>\n",
       "    .dataframe tbody tr th:only-of-type {\n",
       "        vertical-align: middle;\n",
       "    }\n",
       "\n",
       "    .dataframe tbody tr th {\n",
       "        vertical-align: top;\n",
       "    }\n",
       "\n",
       "    .dataframe thead th {\n",
       "        text-align: right;\n",
       "    }\n",
       "</style>\n",
       "<table border=\"1\" class=\"dataframe\">\n",
       "  <thead>\n",
       "    <tr style=\"text-align: right;\">\n",
       "      <th></th>\n",
       "      <th>review_appearance</th>\n",
       "      <th>review_palette</th>\n",
       "      <th>review_taste</th>\n",
       "      <th>review_aroma</th>\n",
       "      <th>review_overall</th>\n",
       "    </tr>\n",
       "  </thead>\n",
       "  <tbody>\n",
       "    <tr>\n",
       "      <th>count</th>\n",
       "      <td>2783.000000</td>\n",
       "      <td>2783.000000</td>\n",
       "      <td>2783.000000</td>\n",
       "      <td>2783.000000</td>\n",
       "      <td>2783.000000</td>\n",
       "    </tr>\n",
       "    <tr>\n",
       "      <th>mean</th>\n",
       "      <td>3.561983</td>\n",
       "      <td>3.376931</td>\n",
       "      <td>3.461552</td>\n",
       "      <td>3.474308</td>\n",
       "      <td>3.598096</td>\n",
       "    </tr>\n",
       "    <tr>\n",
       "      <th>std</th>\n",
       "      <td>0.741973</td>\n",
       "      <td>0.844932</td>\n",
       "      <td>0.796263</td>\n",
       "      <td>0.869528</td>\n",
       "      <td>0.848778</td>\n",
       "    </tr>\n",
       "    <tr>\n",
       "      <th>min</th>\n",
       "      <td>1.000000</td>\n",
       "      <td>1.000000</td>\n",
       "      <td>1.000000</td>\n",
       "      <td>1.000000</td>\n",
       "      <td>1.000000</td>\n",
       "    </tr>\n",
       "    <tr>\n",
       "      <th>25%</th>\n",
       "      <td>3.000000</td>\n",
       "      <td>3.000000</td>\n",
       "      <td>3.000000</td>\n",
       "      <td>3.000000</td>\n",
       "      <td>3.000000</td>\n",
       "    </tr>\n",
       "    <tr>\n",
       "      <th>50%</th>\n",
       "      <td>4.000000</td>\n",
       "      <td>3.500000</td>\n",
       "      <td>3.500000</td>\n",
       "      <td>3.500000</td>\n",
       "      <td>4.000000</td>\n",
       "    </tr>\n",
       "    <tr>\n",
       "      <th>75%</th>\n",
       "      <td>4.000000</td>\n",
       "      <td>4.000000</td>\n",
       "      <td>4.000000</td>\n",
       "      <td>4.000000</td>\n",
       "      <td>4.000000</td>\n",
       "    </tr>\n",
       "    <tr>\n",
       "      <th>max</th>\n",
       "      <td>5.000000</td>\n",
       "      <td>5.000000</td>\n",
       "      <td>5.000000</td>\n",
       "      <td>5.000000</td>\n",
       "      <td>5.000000</td>\n",
       "    </tr>\n",
       "  </tbody>\n",
       "</table>\n",
       "</div>"
      ],
      "text/plain": [
       "       review_appearance  review_palette  review_taste  review_aroma  \\\n",
       "count        2783.000000     2783.000000   2783.000000   2783.000000   \n",
       "mean            3.561983        3.376931      3.461552      3.474308   \n",
       "std             0.741973        0.844932      0.796263      0.869528   \n",
       "min             1.000000        1.000000      1.000000      1.000000   \n",
       "25%             3.000000        3.000000      3.000000      3.000000   \n",
       "50%             4.000000        3.500000      3.500000      3.500000   \n",
       "75%             4.000000        4.000000      4.000000      4.000000   \n",
       "max             5.000000        5.000000      5.000000      5.000000   \n",
       "\n",
       "       review_overall  \n",
       "count     2783.000000  \n",
       "mean         3.598096  \n",
       "std          0.848778  \n",
       "min          1.000000  \n",
       "25%          3.000000  \n",
       "50%          4.000000  \n",
       "75%          4.000000  \n",
       "max          5.000000  "
      ]
     },
     "execution_count": 12,
     "metadata": {},
     "output_type": "execute_result"
    }
   ],
   "source": [
    "dfbeer_corr = dfbeer[[ 'review_appearance', 'review_palette','review_taste', 'review_aroma', 'review_overall']]\n",
    "dfbeer_corr.describe()"
   ]
  },
  {
   "cell_type": "markdown",
   "id": "5958aedc",
   "metadata": {},
   "source": [
    "##### Plot correlation coefficients with hestmap. Tried both spearman correlation and pearson correlation. Results are very similar."
   ]
  },
  {
   "cell_type": "code",
   "execution_count": 13,
   "id": "bd08e73a",
   "metadata": {},
   "outputs": [
    {
     "data": {
      "image/png": "[encoded data removed]",
      "text/plain": [
       "<Figure size 576x432 with 2 Axes>"
      ]
     },
     "metadata": {
      "needs_background": "light"
     },
     "output_type": "display_data"
    }
   ],
   "source": [
    "dfbeer_corrM = dfbeer_corr.corr(method='spearman')\n",
    "umask = np.zeros_like(dfbeer_corrM, dtype=np.bool_)\n",
    "umask[np.triu_indices_from(umask, k=1)] = True\n",
    "plt.figure(figsize=(8, 6))\n",
    "sns.heatmap(dfbeer_corrM, mask=umask, annot=True, linewidths=.3)\n",
    "tick_marks = np.arange(len(dfbeer_corr.columns))\n",
    "plt.xticks( tick_marks+0.5,rotation=45,ha='right')\n",
    "plt.title(\"Pearson Correlation Coefficient\")\n",
    "plt.show()"
   ]
  },
  {
   "cell_type": "markdown",
   "id": "0c8d8562",
   "metadata": {},
   "source": [
    "#### <font color='green'>Aroma rating has the largest correlation (0.78) with user’s Overall rating. The second is Taste (0.69)</font>"
   ]
  },
  {
   "cell_type": "markdown",
   "id": "04296831",
   "metadata": {},
   "source": [
    "### 4. If you were to recommend 3 beers to your friends based on this data which ones will you recommend?\n",
    "<a id='Q4'></a>"
   ]
  },
  {
   "cell_type": "markdown",
   "id": "0f377d06",
   "metadata": {},
   "source": [
    "#### review_overall is the best variable to use for this recommendation. Check what are the unique values in this dataset"
   ]
  },
  {
   "cell_type": "code",
   "execution_count": 14,
   "id": "4e39fe3b",
   "metadata": {},
   "outputs": [
    {
     "data": {
      "text/plain": [
       "array([4.5, 4. , 3.5, 2. , 5. , 3. , 1. , 2.5, 1.5])"
      ]
     },
     "execution_count": 14,
     "metadata": {},
     "output_type": "execute_result"
    }
   ],
   "source": [
    "dfbeer[\"review_overall\"].unique()"
   ]
  },
  {
   "cell_type": "markdown",
   "id": "b9a0f901",
   "metadata": {},
   "source": [
    "#### Check the review_overall rating distribution using histogram"
   ]
  },
  {
   "cell_type": "code",
   "execution_count": 16,
   "id": "d6754d27",
   "metadata": {},
   "outputs": [
    {
     "data": {
      "application/vnd.plotly.v1+json": {
       "config": {
        "linkText": "Export to plot.ly",
        "plotlyServerURL": "https://plot.ly",
        "showLink": true
       },
       "data": [
        {
         "histfunc": "count",
         "histnorm": "",
         "marker": {
          "color": "rgba(255, 153, 51, 1.0)",
          "line": {
           "color": "#4D5663",
           "width": 1.3
          }
         },
         "name": "review_overall",
         "nbinsx": 20,
         "opacity": 0.8,
         "orientation": "v",
         "type": "histogram",
         "x": [
          4.5,
          4,
          4,
          4,
          3.5,
          2,
          3.5,
          5,
          4,
          4,
          4,
          4,
          3.5,
          3,
          4.5,
          3.5,
          4,
          4,
          4,
          4,
          2,
          3.5,
          4,
          3.5,
          3.5,
          3.5,
          4,
          4,
          4.5,
          3.5,
          4,
          4.5,
          4.5,
          3,
          4,
          4,
          4.5,
          4,
          4.5,
          4,
          4,
          4.5,
          4,
          4,
          4,
          4,
          5,
          4.5,
          3.5,
          3,
          1,
          3.5,
          4,
          5,
          3.5,
          4,
          3.5,
          4.5,
          2,
          3.5,
          3.5,
          4,
          3.5,
          4,
          4,
          2.5,
          4.5,
          4,
          4,
          4.5,
          4,
          3.5,
          3.5,
          3.5,
          4,
          3.5,
          3,
          3.5,
          3.5,
          4,
          3.5,
          2,
          3.5,
          4,
          5,
          4,
          4,
          4,
          4,
          3.5,
          4,
          1.5,
          4,
          4,
          4,
          4,
          4,
          3.5,
          3.5,
          4.5,
          4,
          2,
          4,
          4.5,
          3.5,
          4.5,
          4,
          3.5,
          5,
          3.5,
          4,
          3,
          4,
          4,
          2.5,
          3.5,
          2.5,
          3,
          4,
          3.5,
          4.5,
          4,
          4.5,
          3.5,
          4,
          2.5,
          3.5,
          4,
          3.5,
          4,
          4,
          4,
          4.5,
          4,
          3.5,
          4,
          4,
          4,
          4,
          4,
          4.5,
          3.5,
          4,
          4.5,
          4,
          3.5,
          4.5,
          3.5,
          4,
          4,
          2,
          4,
          4,
          3.5,
          5,
          4.5,
          4.5,
          5,
          3,
          4.5,
          4,
          4,
          4,
          3.5,
          4.5,
          4.5,
          4.5,
          3,
          1.5,
          4.5,
          4,
          4,
          3,
          4,
          4,
          4,
          2,
          3.5,
          4,
          1.5,
          4.5,
          3,
          3.5,
          3.5,
          3,
          4,
          3,
          1,
          3,
          4,
          2.5,
          4,
          4,
          4.5,
          2,
          4.5,
          4,
          1,
          3.5,
          3.5,
          3,
          4,
          4.5,
          4,
          4.5,
          4.5,
          3.5,
          3.5,
          3.5,
          4.5,
          4.5,
          4,
          4,
          4,
          4.5,
          4,
          2.5,
          4.5,
          4.5,
          3.5,
          3.5,
          4,
          5,
          3.5,
          1,
          4,
          2,
          3.5,
          3.5,
          4,
          4,
          2.5,
          4,
          4,
          4.5,
          4.5,
          4.5,
          4.5,
          4,
          4,
          4,
          4,
          3,
          4,
          4,
          4,
          2.5,
          3.5,
          3,
          3,
          2.5,
          3,
          2.5,
          1.5,
          3,
          3,
          4.5,
          4,
          1,
          4,
          4,
          5,
          2.5,
          3,
          4,
          4,
          3,
          4.5,
          3.5,
          4,
          3.5,
          3.5,
          1.5,
          4,
          4.5,
          3.5,
          3.5,
          4,
          4,
          4,
          2,
          4,
          4,
          2,
          2.5,
          4,
          4,
          4.5,
          5,
          2,
          3.5,
          3,
          3.5,
          4,
          4,
          3.5,
          3.5,
          4.5,
          4,
          2.5,
          3,
          3,
          3.5,
          3.5,
          3,
          4,
          2.5,
          4,
          2,
          4,
          4,
          4,
          4,
          3.5,
          3.5,
          3.5,
          3.5,
          2.5,
          4,
          4,
          3,
          3,
          3.5,
          1.5,
          3,
          4.5,
          3.5,
          4,
          3,
          2.5,
          2.5,
          4,
          3.5,
          3.5,
          4,
          4,
          5,
          3.5,
          4,
          3.5,
          4,
          4.5,
          3,
          1.5,
          4.5,
          4.5,
          3,
          3.5,
          3,
          4,
          2.5,
          3.5,
          3,
          2,
          4,
          2.5,
          4.5,
          4,
          3,
          4,
          4.5,
          4,
          3,
          4,
          4,
          3,
          4.5,
          4,
          4,
          4.5,
          4.5,
          4.5,
          3.5,
          3,
          4,
          3.5,
          4,
          4,
          3,
          4,
          4,
          2.5,
          2.5,
          4.5,
          4.5,
          4,
          4,
          3,
          4,
          3.5,
          3,
          3.5,
          4,
          4.5,
          4,
          4,
          3.5,
          4,
          4,
          4,
          4,
          4,
          3,
          1.5,
          3,
          4.5,
          4,
          4,
          3,
          5,
          2.5,
          3,
          4,
          3.5,
          3.5,
          4.5,
          2,
          4,
          3.5,
          3.5,
          2,
          4,
          3.5,
          3.5,
          4,
          3,
          3,
          3.5,
          4,
          4,
          3,
          3,
          4,
          4,
          4.5,
          4.5,
          4,
          3.5,
          4,
          3.5,
          4,
          3.5,
          5,
          4,
          4,
          3,
          4.5,
          4,
          2.5,
          4,
          4.5,
          3,
          4,
          3.5,
          4,
          3.5,
          2,
          3.5,
          4.5,
          4,
          4.5,
          4,
          4,
          4,
          4,
          4,
          3.5,
          3.5,
          3,
          3,
          3.5,
          3.5,
          4,
          3.5,
          4.5,
          5,
          4,
          4,
          4.5,
          4,
          4.5,
          2,
          4,
          4,
          4,
          4,
          2,
          4,
          4,
          4,
          3.5,
          4,
          5,
          3,
          3.5,
          4.5,
          2,
          1.5,
          4,
          3.5,
          4,
          4,
          4,
          3.5,
          4.5,
          4,
          2,
          3.5,
          4,
          3,
          2,
          4.5,
          4.5,
          3,
          4,
          1.5,
          3.5,
          1.5,
          4,
          3.5,
          4.5,
          4,
          3.5,
          4.5,
          4.5,
          4.5,
          1.5,
          4,
          3.5,
          4,
          3,
          4.5,
          4,
          2,
          4,
          2.5,
          4,
          2.5,
          4,
          3.5,
          3.5,
          4,
          3,
          4,
          4.5,
          4.5,
          3.5,
          4.5,
          3.5,
          3.5,
          4,
          2,
          4,
          4,
          3,
          4,
          4.5,
          3,
          2,
          2.5,
          2.5,
          4,
          4,
          4,
          2,
          4,
          3.5,
          4,
          4,
          2,
          4.5,
          4,
          5,
          5,
          5,
          4.5,
          4,
          3.5,
          4,
          4.5,
          3,
          5,
          4,
          4.5,
          4,
          4,
          3.5,
          4,
          3.5,
          4.5,
          3.5,
          4,
          4,
          4,
          3,
          4.5,
          3,
          4.5,
          3,
          3.5,
          4,
          5,
          5,
          2,
          4,
          4,
          2.5,
          2,
          3,
          3.5,
          3.5,
          3.5,
          3.5,
          4,
          3,
          3.5,
          3.5,
          3.5,
          4,
          1,
          4,
          4,
          3.5,
          4,
          4.5,
          4,
          2.5,
          4.5,
          3,
          4,
          4.5,
          4,
          4,
          2,
          3.5,
          3.5,
          3.5,
          4,
          1.5,
          4.5,
          1,
          3.5,
          4,
          4.5,
          4,
          4,
          5,
          2.5,
          4,
          2.5,
          5,
          4,
          4,
          1.5,
          4,
          3,
          4.5,
          4,
          3.5,
          4,
          2,
          4,
          1.5,
          5,
          4,
          2,
          4,
          4,
          4.5,
          4,
          3.5,
          4,
          3.5,
          3,
          4,
          4,
          4,
          4.5,
          4,
          4,
          3.5,
          3.5,
          3.5,
          2.5,
          4.5,
          5,
          4,
          4,
          4,
          5,
          5,
          4,
          3,
          3,
          4,
          3,
          3.5,
          3,
          3.5,
          2,
          1.5,
          4,
          1,
          3,
          3.5,
          4,
          4,
          3.5,
          4,
          2,
          3.5,
          4,
          4,
          3.5,
          2.5,
          5,
          4,
          2,
          4,
          4,
          4,
          4,
          4,
          4,
          4.5,
          4.5,
          5,
          3.5,
          1.5,
          2.5,
          3.5,
          1,
          2.5,
          3,
          1.5,
          3.5,
          4,
          4,
          4,
          4,
          2.5,
          4.5,
          4,
          4,
          4.5,
          4,
          1.5,
          2.5,
          3.5,
          2.5,
          4.5,
          4,
          4.5,
          3.5,
          4,
          4,
          4,
          4,
          4.5,
          4,
          4,
          4.5,
          4.5,
          3,
          3.5,
          4.5,
          4.5,
          4,
          4.5,
          4,
          4,
          4,
          3,
          3.5,
          4,
          4,
          4,
          4,
          3.5,
          5,
          4.5,
          4,
          4,
          4,
          5,
          5,
          2,
          5,
          5,
          3,
          3.5,
          4,
          2,
          4.5,
          4,
          4,
          2.5,
          2,
          4.5,
          3,
          4,
          2.5,
          4.5,
          4,
          4,
          3.5,
          3,
          4,
          4.5,
          4,
          5,
          4.5,
          4,
          2.5,
          3.5,
          2,
          4.5,
          5,
          3,
          4.5,
          4,
          4,
          1,
          4,
          3,
          3,
          4,
          4,
          3,
          5,
          2,
          3.5,
          3.5,
          4,
          3,
          4,
          5,
          4.5,
          5,
          4.5,
          4,
          4,
          4,
          4,
          3,
          2,
          4.5,
          3.5,
          4.5,
          3.5,
          4,
          4,
          4.5,
          4,
          4.5,
          2,
          3,
          4,
          3.5,
          4,
          1.5,
          4,
          3,
          4,
          4,
          4,
          4.5,
          2.5,
          4.5,
          3.5,
          4,
          4.5,
          4,
          4.5,
          4,
          3.5,
          4.5,
          3,
          3.5,
          2,
          4,
          4.5,
          4.5,
          2,
          4,
          4,
          4,
          3.5,
          4,
          4,
          4,
          3,
          3.5,
          4.5,
          4.5,
          3.5,
          4.5,
          4.5,
          4,
          3.5,
          4.5,
          4,
          4,
          4,
          3.5,
          4.5,
          3,
          4.5,
          4,
          2,
          3.5,
          2.5,
          3,
          4,
          2.5,
          3,
          4,
          3.5,
          4,
          3.5,
          4.5,
          5,
          4.5,
          4.5,
          4,
          4,
          3.5,
          3.5,
          4,
          3.5,
          2,
          4,
          3.5,
          5,
          3.5,
          2.5,
          1.5,
          4,
          5,
          4.5,
          3.5,
          4,
          4,
          4,
          4,
          4,
          4,
          3.5,
          3.5,
          3.5,
          5,
          4,
          3.5,
          3,
          4,
          4.5,
          3,
          2.5,
          4,
          4,
          1,
          4,
          1,
          4,
          4,
          4.5,
          4,
          2.5,
          4,
          4,
          3,
          4,
          4.5,
          4.5,
          4.5,
          1.5,
          3.5,
          4,
          3.5,
          3,
          4,
          5,
          3,
          5,
          4.5,
          3.5,
          2.5,
          4.5,
          4,
          3,
          3,
          4,
          4,
          3,
          1.5,
          4,
          4.5,
          4,
          4,
          3,
          3.5,
          4,
          4.5,
          3,
          4.5,
          4.5,
          1,
          4.5,
          2.5,
          4.5,
          4,
          3,
          4.5,
          5,
          3,
          4,
          3.5,
          3.5,
          4,
          4.5,
          4,
          3.5,
          3.5,
          3.5,
          4.5,
          3.5,
          3,
          3,
          3.5,
          3.5,
          4,
          4,
          4,
          3,
          4,
          4,
          4,
          4,
          4,
          4,
          4,
          4,
          4,
          4,
          3.5,
          3.5,
          4.5,
          4.5,
          4,
          4.5,
          2,
          2,
          4,
          4,
          5,
          4.5,
          4.5,
          4,
          4,
          4,
          4,
          3.5,
          4,
          3.5,
          4,
          2.5,
          3.5,
          4,
          4,
          4,
          3.5,
          4,
          4.5,
          4,
          4.5,
          3.5,
          4,
          4,
          4,
          4,
          4,
          4,
          4,
          4,
          4,
          4,
          4,
          3.5,
          3.5,
          3.5,
          5,
          4,
          4,
          4,
          4.5,
          5,
          1.5,
          4,
          4,
          4,
          4,
          4,
          2,
          3.5,
          5,
          4.5,
          2,
          3.5,
          4.5,
          3,
          2.5,
          2,
          3.5,
          4.5,
          4.5,
          3.5,
          3,
          4.5,
          3.5,
          3.5,
          4,
          2,
          3.5,
          4,
          4,
          4.5,
          4,
          4.5,
          4.5,
          4,
          2,
          3.5,
          4.5,
          3.5,
          3.5,
          3.5,
          3.5,
          1.5,
          4,
          4,
          3,
          4,
          4.5,
          4,
          2.5,
          3.5,
          3.5,
          4.5,
          3.5,
          1.5,
          3.5,
          4,
          3.5,
          2,
          4.5,
          3,
          4.5,
          4,
          4,
          4,
          4.5,
          4,
          4,
          4.5,
          3.5,
          4.5,
          3,
          4,
          4,
          4,
          4.5,
          3.5,
          4,
          3.5,
          2,
          3,
          4,
          4,
          4.5,
          4,
          4.5,
          4.5,
          4,
          1,
          4.5,
          4,
          4,
          5,
          2,
          4.5,
          4,
          3.5,
          4,
          4,
          3.5,
          3,
          3,
          4.5,
          4.5,
          4.5,
          3,
          4,
          4,
          4,
          4.5,
          4,
          4,
          4,
          5,
          4.5,
          3,
          1,
          3.5,
          3,
          3.5,
          4,
          4,
          4,
          4,
          3.5,
          4.5,
          3.5,
          3,
          4.5,
          4.5,
          4,
          3,
          4,
          4.5,
          4,
          4,
          4,
          4.5,
          4.5,
          1,
          5,
          4,
          4,
          4,
          4,
          4,
          4,
          2.5,
          4,
          4,
          4,
          3,
          4,
          3,
          4,
          4,
          4,
          4,
          4,
          5,
          5,
          4.5,
          2,
          3.5,
          4,
          4,
          3.5,
          4,
          2.5,
          4,
          3.5,
          2,
          3.5,
          3,
          4.5,
          4.5,
          2,
          4.5,
          3,
          3.5,
          3,
          3.5,
          3.5,
          4,
          4,
          1.5,
          2.5,
          3,
          4.5,
          4,
          2.5,
          4,
          3,
          3.5,
          4,
          4.5,
          3.5,
          4.5,
          4,
          4.5,
          3.5,
          4,
          4,
          4.5,
          4.5,
          4,
          3,
          5,
          3,
          3,
          4.5,
          3,
          3.5,
          5,
          4,
          3,
          4.5,
          5,
          4,
          4,
          4,
          4,
          3.5,
          4.5,
          4,
          4,
          3.5,
          4.5,
          4,
          4,
          4.5,
          4.5,
          3,
          4,
          3.5,
          4.5,
          2,
          4,
          4.5,
          4,
          4,
          3.5,
          4.5,
          3,
          3,
          4.5,
          4,
          5,
          4,
          4,
          3.5,
          4,
          3.5,
          3.5,
          3.5,
          5,
          4,
          2.5,
          3.5,
          3,
          3.5,
          4.5,
          4.5,
          3,
          2.5,
          5,
          3.5,
          3.5,
          4,
          4.5,
          3,
          3.5,
          4,
          4,
          3,
          2,
          3,
          3.5,
          3,
          4,
          3.5,
          4.5,
          3.5,
          2,
          4,
          2,
          3.5,
          4.5,
          3.5,
          4.5,
          5,
          3,
          4,
          3.5,
          4,
          2,
          3,
          4,
          4.5,
          4.5,
          4,
          4,
          4,
          3.5,
          4.5,
          4.5,
          4,
          5,
          3.5,
          4.5,
          4,
          2,
          4,
          4.5,
          4,
          4,
          4,
          4.5,
          3.5,
          3,
          3.5,
          4,
          2.5,
          2.5,
          3,
          3.5,
          3.5,
          4,
          3.5,
          4.5,
          4,
          3.5,
          3.5,
          4,
          4,
          3.5,
          4.5,
          4,
          4.5,
          4,
          2.5,
          2.5,
          1.5,
          3.5,
          1,
          3.5,
          4.5,
          4.5,
          4,
          3.5,
          3,
          3.5,
          4,
          4.5,
          5,
          4,
          3,
          4,
          3.5,
          2,
          2.5,
          3,
          4.5,
          4,
          4.5,
          3,
          4.5,
          4,
          4.5,
          4,
          3.5,
          4.5,
          4,
          4.5,
          4,
          4,
          2,
          5,
          4.5,
          4,
          3,
          3,
          4.5,
          2,
          4.5,
          2.5,
          3.5,
          4,
          2.5,
          4,
          3,
          4,
          4,
          3,
          3.5,
          3.5,
          4,
          3,
          4,
          4.5,
          1.5,
          3.5,
          3.5,
          4.5,
          4,
          4,
          4,
          4,
          4,
          3,
          5,
          3,
          4.5,
          4.5,
          3,
          3,
          4.5,
          3.5,
          4,
          4,
          4,
          4,
          2.5,
          4,
          3.5,
          3.5,
          4,
          4.5,
          3,
          4,
          2,
          4,
          4.5,
          4.5,
          4,
          5,
          4,
          4,
          4,
          4,
          4,
          4,
          4,
          4,
          4,
          4,
          4,
          3.5,
          4,
          4.5,
          2.5,
          4.5,
          3,
          4.5,
          3.5,
          3.5,
          4,
          3,
          2,
          3.5,
          4,
          3.5,
          4,
          4,
          2,
          3.5,
          3.5,
          3.5,
          4,
          4,
          3,
          4,
          4,
          4,
          4,
          4,
          4,
          3.5,
          4,
          4.5,
          3.5,
          4.5,
          3,
          3.5,
          4,
          4.5,
          4,
          4,
          4,
          3,
          4,
          4.5,
          2,
          4.5,
          4,
          2.5,
          4.5,
          4.5,
          4.5,
          3,
          3.5,
          4,
          5,
          2.5,
          3,
          4.5,
          4.5,
          4,
          3.5,
          3,
          2,
          3,
          4,
          4,
          4,
          3.5,
          4.5,
          4,
          4,
          5,
          3,
          1.5,
          4,
          4,
          4,
          4,
          4.5,
          2,
          3,
          3,
          4.5,
          4.5,
          4.5,
          3.5,
          3.5,
          4,
          3,
          3.5,
          4,
          4,
          2,
          4,
          4,
          3.5,
          4,
          1.5,
          4,
          4.5,
          5,
          5,
          5,
          3,
          3,
          5,
          3,
          3.5,
          4,
          4.5,
          4.5,
          4,
          2,
          4,
          4,
          3.5,
          4.5,
          2,
          3,
          1.5,
          1.5,
          3,
          4.5,
          4.5,
          4,
          2.5,
          1.5,
          4,
          3,
          4,
          3,
          4,
          4,
          4,
          4.5,
          4,
          4.5,
          3.5,
          2.5,
          1.5,
          4.5,
          2.5,
          4,
          3.5,
          4,
          3,
          3.5,
          4,
          3,
          3.5,
          2.5,
          3,
          3.5,
          5,
          1,
          4,
          4.5,
          5,
          4.5,
          5,
          4.5,
          1.5,
          3,
          4,
          3.5,
          4,
          3,
          3.5,
          4,
          4.5,
          2,
          3,
          3,
          4,
          2.5,
          3,
          5,
          2,
          4.5,
          3.5,
          2.5,
          1,
          3,
          4,
          4.5,
          4.5,
          3.5,
          2.5,
          4.5,
          4,
          4,
          4.5,
          3.5,
          2,
          4,
          4,
          3.5,
          4.5,
          4.5,
          4,
          4,
          3.5,
          4.5,
          3,
          4.5,
          2,
          4.5,
          4,
          4,
          4,
          2.5,
          4,
          1.5,
          3,
          3,
          3,
          2,
          4,
          4.5,
          4,
          1.5,
          2,
          4,
          4,
          4.5,
          4,
          3.5,
          4.5,
          2,
          4.5,
          2,
          3.5,
          3.5,
          2.5,
          4.5,
          3.5,
          3,
          2,
          3,
          4.5,
          3,
          3,
          3,
          3,
          4,
          4,
          3,
          4.5,
          3,
          4,
          4.5,
          2.5,
          4.5,
          4.5,
          3.5,
          4.5,
          3.5,
          3,
          4,
          4,
          4.5,
          3,
          3,
          4,
          5,
          3,
          1,
          3,
          5,
          3.5,
          4,
          4,
          3.5,
          4.5,
          3,
          4.5,
          3.5,
          3,
          2,
          2,
          2.5,
          4.5,
          1.5,
          3,
          4.5,
          5,
          4,
          4.5,
          3,
          4,
          4,
          4,
          4,
          3.5,
          4,
          4.5,
          3,
          3.5,
          1,
          4,
          4.5,
          2,
          3.5,
          5,
          4.5,
          3.5,
          4,
          4,
          3.5,
          3,
          4.5,
          4.5,
          3,
          3.5,
          4,
          3,
          4,
          3,
          4,
          4,
          4,
          3.5,
          1.5,
          4,
          4.5,
          4,
          4,
          4,
          2,
          4,
          4,
          4.5,
          4,
          3,
          4,
          3.5,
          4,
          3.5,
          4.5,
          4,
          5,
          3,
          5,
          4.5,
          3,
          2,
          3,
          3.5,
          4.5,
          4,
          3.5,
          4,
          4.5,
          3,
          3.5,
          3.5,
          4,
          3,
          3.5,
          4.5,
          2,
          3.5,
          5,
          2,
          4,
          4,
          2,
          4,
          3,
          2,
          3,
          3.5,
          4,
          3.5,
          4.5,
          4,
          4.5,
          2.5,
          4,
          1.5,
          4,
          3.5,
          2.5,
          3,
          3.5,
          4,
          4.5,
          3.5,
          5,
          4,
          3.5,
          3.5,
          3.5,
          4,
          3,
          3,
          3.5,
          4,
          4,
          4.5,
          4.5,
          4,
          5,
          3,
          4,
          4,
          4,
          4,
          4,
          1.5,
          4,
          4,
          4,
          2.5,
          1.5,
          4,
          3.5,
          4,
          4,
          3.5,
          3,
          3,
          4,
          4,
          3,
          2.5,
          1.5,
          3.5,
          3,
          4.5,
          3,
          4.5,
          4,
          4,
          3.5,
          4,
          4,
          4,
          2.5,
          3.5,
          2,
          4,
          3.5,
          3.5,
          4,
          3,
          3.5,
          4,
          3.5,
          2.5,
          2.5,
          4,
          3.5,
          3,
          3.5,
          2,
          3.5,
          3,
          4.5,
          3.5,
          4.5,
          2,
          4,
          5,
          4,
          3.5,
          3,
          3,
          4,
          3,
          4.5,
          4,
          2,
          3.5,
          3,
          4,
          4,
          3.5,
          2.5,
          4.5,
          4.5,
          3.5,
          2.5,
          3.5,
          4.5,
          3,
          4.5,
          5,
          4,
          4.5,
          2.5,
          4.5,
          3,
          2,
          3.5,
          3.5,
          3.5,
          4,
          4.5,
          3.5,
          4.5,
          4,
          3.5,
          3,
          4,
          3.5,
          4.5,
          4,
          4,
          5,
          4,
          4.5,
          3.5,
          5,
          3.5,
          3.5,
          4,
          4.5,
          4.5,
          2,
          4.5,
          3.5,
          4,
          4,
          4.5,
          4.5,
          3,
          4,
          4,
          2,
          5,
          3,
          2,
          4,
          4.5,
          4.5,
          3.5,
          4,
          4,
          3.5,
          2.5,
          4,
          2,
          4.5,
          3.5,
          4.5,
          4,
          4,
          4,
          3.5,
          3,
          4.5,
          3,
          3.5,
          2,
          4,
          3.5,
          3.5,
          2.5,
          3,
          3.5,
          3.5,
          2,
          1.5,
          4,
          5,
          4,
          4,
          3.5,
          4,
          3,
          4,
          3.5,
          3.5,
          1.5,
          4,
          3.5,
          3,
          5,
          4,
          2.5,
          2,
          1.5,
          1.5,
          3,
          4.5,
          3.5,
          2,
          2.5,
          3.5,
          2.5,
          3,
          2,
          3,
          1.5,
          4.5,
          4,
          4,
          2.5,
          3.5,
          1.5,
          3.5,
          3,
          4,
          3,
          2,
          3.5,
          5,
          2.5,
          3,
          4.5,
          2.5,
          3.5,
          5,
          4.5,
          4,
          4.5,
          3,
          4.5,
          3.5,
          3.5,
          4,
          3.5,
          2.5,
          3.5,
          3.5,
          3.5,
          4,
          4,
          2.5,
          3,
          3,
          4,
          3,
          4,
          3.5,
          4,
          4.5,
          3.5,
          3,
          3,
          4,
          4.5,
          3,
          4,
          3,
          3.5,
          3.5,
          4,
          4,
          4,
          3.5,
          1.5,
          4.5,
          3.5,
          3,
          4,
          5,
          4,
          2.5,
          4,
          3,
          4,
          3.5,
          4,
          3.5,
          3,
          4.5,
          3.5,
          1,
          3.5,
          3.5,
          2.5,
          2,
          3.5,
          2,
          4.5,
          3,
          3.5,
          5,
          5,
          5,
          1.5,
          3.5,
          3.5,
          3,
          4.5,
          3.5,
          3,
          2,
          2,
          3,
          1.5,
          2,
          3.5,
          3,
          2.5,
          3,
          1.5,
          4,
          3.5,
          4.5,
          4.5,
          3.5,
          3,
          3.5,
          2.5,
          4.5,
          5,
          5,
          3.5,
          4,
          5,
          3,
          3.5,
          2.5,
          3,
          4,
          4,
          4.5,
          4.5,
          4,
          4.5,
          2,
          2,
          4.5,
          2.5,
          3.5,
          4,
          2,
          2,
          2.5,
          4.5,
          4.5,
          3.5,
          4,
          4,
          4,
          3.5,
          4,
          4,
          2,
          2,
          4.5,
          4.5,
          4,
          4.5,
          1.5,
          4.5,
          3.5,
          3,
          1.5,
          4,
          2,
          3,
          1.5,
          3,
          5,
          4,
          3,
          3.5,
          2.5,
          2,
          4.5,
          4,
          4,
          4,
          3.5,
          2,
          1,
          4.5,
          4,
          4.5,
          4,
          4,
          4,
          4,
          4,
          4,
          2,
          3,
          4,
          3,
          3.5,
          4,
          4,
          3.5,
          3,
          2.5,
          4,
          2.5,
          4.5,
          3.5,
          4.5,
          4,
          4,
          4,
          3,
          3.5,
          4.5,
          2,
          3,
          3.5,
          4,
          4,
          4,
          3.5,
          5,
          4,
          3,
          4,
          3,
          4,
          2.5,
          4,
          4,
          4,
          2.5,
          3.5,
          4,
          3.5,
          3.5,
          4,
          3.5,
          3,
          3,
          4,
          1.5,
          4,
          2.5,
          4,
          4.5,
          4.5,
          3,
          4,
          4,
          3,
          2,
          4,
          3.5,
          2.5,
          3.5,
          1,
          4.5,
          3.5,
          4.5,
          3,
          3.5,
          3.5,
          4.5,
          3.5,
          4,
          4,
          4,
          4,
          3,
          2.5,
          1.5,
          4.5,
          4,
          4.5,
          4.5,
          2.5,
          4.5,
          4,
          4,
          2.5,
          4,
          4.5,
          3.5,
          2.5,
          2.5,
          4,
          3.5,
          4.5,
          3,
          3.5,
          4.5,
          4,
          4,
          4.5,
          4,
          4,
          4.5,
          4.5,
          2.5,
          2,
          3.5,
          1.5,
          1,
          2,
          3,
          3.5,
          4,
          3,
          1.5,
          1,
          2,
          4,
          4,
          4,
          3.5,
          2.5,
          4,
          2,
          3.5,
          4,
          4.5,
          2,
          3.5,
          4,
          4,
          4.5,
          4.5,
          2.5,
          2,
          3,
          4.5,
          4,
          4,
          4.5,
          3.5,
          3,
          4,
          4,
          4,
          3.5,
          4,
          3.5,
          3.5,
          3,
          2,
          3.5,
          4,
          3.5,
          4,
          5,
          1.5,
          2,
          3.5,
          2.5,
          4,
          4,
          4,
          3,
          3,
          3.5,
          3,
          2.5,
          5,
          2,
          4,
          2,
          3.5,
          4.5,
          3.5,
          4,
          3.5,
          3,
          3.5,
          4,
          4,
          3.5,
          3,
          4,
          4,
          4,
          2,
          4.5,
          4,
          4,
          4,
          4,
          4,
          3,
          4.5,
          4,
          3.5,
          2,
          3.5,
          2.5,
          5,
          4.5,
          3,
          3.5,
          3,
          4,
          4.5,
          2,
          2.5,
          3,
          3,
          3.5,
          2,
          2,
          4,
          3.5,
          2.5,
          3,
          5,
          4.5,
          3,
          4.5,
          2.5,
          4.5,
          4,
          4,
          4,
          3.5,
          1,
          4,
          3.5,
          4,
          2,
          4,
          4,
          4,
          4,
          3.5,
          4,
          3,
          2,
          3.5,
          4,
          5,
          4,
          4,
          4.5,
          2.5,
          4,
          4.5,
          4.5,
          2,
          4.5,
          4,
          2.5,
          1.5,
          3,
          2.5,
          3,
          4,
          3,
          2.5,
          2.5,
          4,
          4.5,
          4.5,
          3,
          3.5,
          4,
          4.5,
          3,
          3,
          3.5,
          2,
          3.5,
          4.5,
          2.5,
          1.5,
          2.5,
          3.5,
          3.5,
          1.5,
          2.5,
          3,
          4.5,
          2,
          2.5,
          4,
          3.5,
          1.5,
          2.5,
          3,
          1.5,
          4.5,
          3,
          3,
          2.5,
          4,
          2.5,
          4,
          4,
          4,
          4.5,
          4,
          5,
          4.5,
          4,
          4,
          4,
          4,
          4,
          3,
          3,
          3,
          2.5,
          3,
          3.5,
          3.5,
          3,
          3,
          2,
          1,
          1.5,
          3,
          2.5,
          4,
          4,
          4,
          4,
          3.5,
          3.5,
          2,
          2,
          3.5,
          4,
          3.5,
          3.5,
          3,
          4,
          4,
          3.5,
          3,
          3,
          4,
          2,
          4,
          3,
          4,
          3,
          4,
          4,
          3,
          4,
          1.5,
          1,
          4,
          1.5,
          2,
          4.5,
          3,
          1,
          2.5,
          3,
          3,
          3,
          3,
          2,
          3.5,
          3,
          3.5,
          3,
          2,
          4,
          3,
          4,
          3.5,
          2.5,
          4,
          3,
          3,
          1,
          2.5,
          1.5,
          2,
          1.5,
          4,
          4,
          3,
          4,
          4,
          4,
          4,
          2,
          4,
          2.5,
          4,
          4,
          3.5,
          2.5,
          3.5,
          3,
          4,
          3.5,
          4.5,
          3,
          3,
          4,
          2,
          2,
          4.5,
          2.5,
          4,
          4.5,
          3.5,
          1.5,
          2,
          3.5,
          1.5,
          3,
          4,
          4.5,
          4,
          4,
          4,
          3,
          4,
          3,
          4,
          3.5,
          4,
          2.5,
          2.5,
          2.5,
          3,
          3,
          2.5,
          2,
          4.5,
          1,
          3,
          2.5,
          3.5,
          4.5,
          2.5,
          2.5,
          2,
          4.5,
          2.5,
          3,
          4.5,
          4.5,
          3.5,
          3,
          2.5,
          3,
          5,
          3,
          3,
          3
         ]
        }
       ],
       "layout": {
        "barmode": "overlay",
        "legend": {
         "bgcolor": "#FFFFFF",
         "font": {
          "color": "#4D5663"
         }
        },
        "paper_bgcolor": "#FFFFFF",
        "plot_bgcolor": "#FFFFFF",
        "template": {
         "data": {
          "bar": [
           {
            "error_x": {
             "color": "#2a3f5f"
            },
            "error_y": {
             "color": "#2a3f5f"
            },
            "marker": {
             "line": {
              "color": "#E5ECF6",
              "width": 0.5
             },
             "pattern": {
              "fillmode": "overlay",
              "size": 10,
              "solidity": 0.2
             }
            },
            "type": "bar"
           }
          ],
          "barpolar": [
           {
            "marker": {
             "line": {
              "color": "#E5ECF6",
              "width": 0.5
             },
             "pattern": {
              "fillmode": "overlay",
              "size": 10,
              "solidity": 0.2
             }
            },
            "type": "barpolar"
           }
          ],
          "carpet": [
           {
            "aaxis": {
             "endlinecolor": "#2a3f5f",
             "gridcolor": "white",
             "linecolor": "white",
             "minorgridcolor": "white",
             "startlinecolor": "#2a3f5f"
            },
            "baxis": {
             "endlinecolor": "#2a3f5f",
             "gridcolor": "white",
             "linecolor": "white",
             "minorgridcolor": "white",
             "startlinecolor": "#2a3f5f"
            },
            "type": "carpet"
           }
          ],
          "choropleth": [
           {
            "colorbar": {
             "outlinewidth": 0,
             "ticks": ""
            },
            "type": "choropleth"
           }
          ],
          "contour": [
           {
            "colorbar": {
             "outlinewidth": 0,
             "ticks": ""
            },
            "colorscale": [
             [
              0,
              "#0d0887"
             ],
             [
              0.1111111111111111,
              "#46039f"
             ],
             [
              0.2222222222222222,
              "#7201a8"
             ],
             [
              0.3333333333333333,
              "#9c179e"
             ],
             [
              0.4444444444444444,
              "#bd3786"
             ],
             [
              0.5555555555555556,
              "#d8576b"
             ],
             [
              0.6666666666666666,
              "#ed7953"
             ],
             [
              0.7777777777777778,
              "#fb9f3a"
             ],
             [
              0.8888888888888888,
              "#fdca26"
             ],
             [
              1,
              "#f0f921"
             ]
            ],
            "type": "contour"
           }
          ],
          "contourcarpet": [
           {
            "colorbar": {
             "outlinewidth": 0,
             "ticks": ""
            },
            "type": "contourcarpet"
           }
          ],
          "heatmap": [
           {
            "colorbar": {
             "outlinewidth": 0,
             "ticks": ""
            },
            "colorscale": [
             [
              0,
              "#0d0887"
             ],
             [
              0.1111111111111111,
              "#46039f"
             ],
             [
              0.2222222222222222,
              "#7201a8"
             ],
             [
              0.3333333333333333,
              "#9c179e"
             ],
             [
              0.4444444444444444,
              "#bd3786"
             ],
             [
              0.5555555555555556,
              "#d8576b"
             ],
             [
              0.6666666666666666,
              "#ed7953"
             ],
             [
              0.7777777777777778,
              "#fb9f3a"
             ],
             [
              0.8888888888888888,
              "#fdca26"
             ],
             [
              1,
              "#f0f921"
             ]
            ],
            "type": "heatmap"
           }
          ],
          "heatmapgl": [
           {
            "colorbar": {
             "outlinewidth": 0,
             "ticks": ""
            },
            "colorscale": [
             [
              0,
              "#0d0887"
             ],
             [
              0.1111111111111111,
              "#46039f"
             ],
             [
              0.2222222222222222,
              "#7201a8"
             ],
             [
              0.3333333333333333,
              "#9c179e"
             ],
             [
              0.4444444444444444,
              "#bd3786"
             ],
             [
              0.5555555555555556,
              "#d8576b"
             ],
             [
              0.6666666666666666,
              "#ed7953"
             ],
             [
              0.7777777777777778,
              "#fb9f3a"
             ],
             [
              0.8888888888888888,
              "#fdca26"
             ],
             [
              1,
              "#f0f921"
             ]
            ],
            "type": "heatmapgl"
           }
          ],
          "histogram": [
           {
            "marker": {
             "pattern": {
              "fillmode": "overlay",
              "size": 10,
              "solidity": 0.2
             }
            },
            "type": "histogram"
           }
          ],
          "histogram2d": [
           {
            "colorbar": {
             "outlinewidth": 0,
             "ticks": ""
            },
            "colorscale": [
             [
              0,
              "#0d0887"
             ],
             [
              0.1111111111111111,
              "#46039f"
             ],
             [
              0.2222222222222222,
              "#7201a8"
             ],
             [
              0.3333333333333333,
              "#9c179e"
             ],
             [
              0.4444444444444444,
              "#bd3786"
             ],
             [
              0.5555555555555556,
              "#d8576b"
             ],
             [
              0.6666666666666666,
              "#ed7953"
             ],
             [
              0.7777777777777778,
              "#fb9f3a"
             ],
             [
              0.8888888888888888,
              "#fdca26"
             ],
             [
              1,
              "#f0f921"
             ]
            ],
            "type": "histogram2d"
           }
          ],
          "histogram2dcontour": [
           {
            "colorbar": {
             "outlinewidth": 0,
             "ticks": ""
            },
            "colorscale": [
             [
              0,
              "#0d0887"
             ],
             [
              0.1111111111111111,
              "#46039f"
             ],
             [
              0.2222222222222222,
              "#7201a8"
             ],
             [
              0.3333333333333333,
              "#9c179e"
             ],
             [
              0.4444444444444444,
              "#bd3786"
             ],
             [
              0.5555555555555556,
              "#d8576b"
             ],
             [
              0.6666666666666666,
              "#ed7953"
             ],
             [
              0.7777777777777778,
              "#fb9f3a"
             ],
             [
              0.8888888888888888,
              "#fdca26"
             ],
             [
              1,
              "#f0f921"
             ]
            ],
            "type": "histogram2dcontour"
           }
          ],
          "mesh3d": [
           {
            "colorbar": {
             "outlinewidth": 0,
             "ticks": ""
            },
            "type": "mesh3d"
           }
          ],
          "parcoords": [
           {
            "line": {
             "colorbar": {
              "outlinewidth": 0,
              "ticks": ""
             }
            },
            "type": "parcoords"
           }
          ],
          "pie": [
           {
            "automargin": true,
            "type": "pie"
           }
          ],
          "scatter": [
           {
            "marker": {
             "colorbar": {
              "outlinewidth": 0,
              "ticks": ""
             }
            },
            "type": "scatter"
           }
          ],
          "scatter3d": [
           {
            "line": {
             "colorbar": {
              "outlinewidth": 0,
              "ticks": ""
             }
            },
            "marker": {
             "colorbar": {
              "outlinewidth": 0,
              "ticks": ""
             }
            },
            "type": "scatter3d"
           }
          ],
          "scattercarpet": [
           {
            "marker": {
             "colorbar": {
              "outlinewidth": 0,
              "ticks": ""
             }
            },
            "type": "scattercarpet"
           }
          ],
          "scattergeo": [
           {
            "marker": {
             "colorbar": {
              "outlinewidth": 0,
              "ticks": ""
             }
            },
            "type": "scattergeo"
           }
          ],
          "scattergl": [
           {
            "marker": {
             "colorbar": {
              "outlinewidth": 0,
              "ticks": ""
             }
            },
            "type": "scattergl"
           }
          ],
          "scattermapbox": [
           {
            "marker": {
             "colorbar": {
              "outlinewidth": 0,
              "ticks": ""
             }
            },
            "type": "scattermapbox"
           }
          ],
          "scatterpolar": [
           {
            "marker": {
             "colorbar": {
              "outlinewidth": 0,
              "ticks": ""
             }
            },
            "type": "scatterpolar"
           }
          ],
          "scatterpolargl": [
           {
            "marker": {
             "colorbar": {
              "outlinewidth": 0,
              "ticks": ""
             }
            },
            "type": "scatterpolargl"
           }
          ],
          "scatterternary": [
           {
            "marker": {
             "colorbar": {
              "outlinewidth": 0,
              "ticks": ""
             }
            },
            "type": "scatterternary"
           }
          ],
          "surface": [
           {
            "colorbar": {
             "outlinewidth": 0,
             "ticks": ""
            },
            "colorscale": [
             [
              0,
              "#0d0887"
             ],
             [
              0.1111111111111111,
              "#46039f"
             ],
             [
              0.2222222222222222,
              "#7201a8"
             ],
             [
              0.3333333333333333,
              "#9c179e"
             ],
             [
              0.4444444444444444,
              "#bd3786"
             ],
             [
              0.5555555555555556,
              "#d8576b"
             ],
             [
              0.6666666666666666,
              "#ed7953"
             ],
             [
              0.7777777777777778,
              "#fb9f3a"
             ],
             [
              0.8888888888888888,
              "#fdca26"
             ],
             [
              1,
              "#f0f921"
             ]
            ],
            "type": "surface"
           }
          ],
          "table": [
           {
            "cells": {
             "fill": {
              "color": "#EBF0F8"
             },
             "line": {
              "color": "white"
             }
            },
            "header": {
             "fill": {
              "color": "#C8D4E3"
             },
             "line": {
              "color": "white"
             }
            },
            "type": "table"
           }
          ]
         },
         "layout": {
          "annotationdefaults": {
           "arrowcolor": "#2a3f5f",
           "arrowhead": 0,
           "arrowwidth": 1
          },
          "autotypenumbers": "strict",
          "coloraxis": {
           "colorbar": {
            "outlinewidth": 0,
            "ticks": ""
           }
          },
          "colorscale": {
           "diverging": [
            [
             0,
             "#8e0152"
            ],
            [
             0.1,
             "#c51b7d"
            ],
            [
             0.2,
             "#de77ae"
            ],
            [
             0.3,
             "#f1b6da"
            ],
            [
             0.4,
             "#fde0ef"
            ],
            [
             0.5,
             "#f7f7f7"
            ],
            [
             0.6,
             "#e6f5d0"
            ],
            [
             0.7,
             "#b8e186"
            ],
            [
             0.8,
             "#7fbc41"
            ],
            [
             0.9,
             "#4d9221"
            ],
            [
             1,
             "#276419"
            ]
           ],
           "sequential": [
            [
             0,
             "#0d0887"
            ],
            [
             0.1111111111111111,
             "#46039f"
            ],
            [
             0.2222222222222222,
             "#7201a8"
            ],
            [
             0.3333333333333333,
             "#9c179e"
            ],
            [
             0.4444444444444444,
             "#bd3786"
            ],
            [
             0.5555555555555556,
             "#d8576b"
            ],
            [
             0.6666666666666666,
             "#ed7953"
            ],
            [
             0.7777777777777778,
             "#fb9f3a"
            ],
            [
             0.8888888888888888,
             "#fdca26"
            ],
            [
             1,
             "#f0f921"
            ]
           ],
           "sequentialminus": [
            [
             0,
             "#0d0887"
            ],
            [
             0.1111111111111111,
             "#46039f"
            ],
            [
             0.2222222222222222,
             "#7201a8"
            ],
            [
             0.3333333333333333,
             "#9c179e"
            ],
            [
             0.4444444444444444,
             "#bd3786"
            ],
            [
             0.5555555555555556,
             "#d8576b"
            ],
            [
             0.6666666666666666,
             "#ed7953"
            ],
            [
             0.7777777777777778,
             "#fb9f3a"
            ],
            [
             0.8888888888888888,
             "#fdca26"
            ],
            [
             1,
             "#f0f921"
            ]
           ]
          },
          "colorway": [
           "#636efa",
           "#EF553B",
           "#00cc96",
           "#ab63fa",
           "#FFA15A",
           "#19d3f3",
           "#FF6692",
           "#B6E880",
           "#FF97FF",
           "#FECB52"
          ],
          "font": {
           "color": "#2a3f5f"
          },
          "geo": {
           "bgcolor": "white",
           "lakecolor": "white",
           "landcolor": "#E5ECF6",
           "showlakes": true,
           "showland": true,
           "subunitcolor": "white"
          },
          "hoverlabel": {
           "align": "left"
          },
          "hovermode": "closest",
          "mapbox": {
           "style": "light"
          },
          "paper_bgcolor": "white",
          "plot_bgcolor": "#E5ECF6",
          "polar": {
           "angularaxis": {
            "gridcolor": "white",
            "linecolor": "white",
            "ticks": ""
           },
           "bgcolor": "#E5ECF6",
           "radialaxis": {
            "gridcolor": "white",
            "linecolor": "white",
            "ticks": ""
           }
          },
          "scene": {
           "xaxis": {
            "backgroundcolor": "#E5ECF6",
            "gridcolor": "white",
            "gridwidth": 2,
            "linecolor": "white",
            "showbackground": true,
            "ticks": "",
            "zerolinecolor": "white"
           },
           "yaxis": {
            "backgroundcolor": "#E5ECF6",
            "gridcolor": "white",
            "gridwidth": 2,
            "linecolor": "white",
            "showbackground": true,
            "ticks": "",
            "zerolinecolor": "white"
           },
           "zaxis": {
            "backgroundcolor": "#E5ECF6",
            "gridcolor": "white",
            "gridwidth": 2,
            "linecolor": "white",
            "showbackground": true,
            "ticks": "",
            "zerolinecolor": "white"
           }
          },
          "shapedefaults": {
           "line": {
            "color": "#2a3f5f"
           }
          },
          "ternary": {
           "aaxis": {
            "gridcolor": "white",
            "linecolor": "white",
            "ticks": ""
           },
           "baxis": {
            "gridcolor": "white",
            "linecolor": "white",
            "ticks": ""
           },
           "bgcolor": "#E5ECF6",
           "caxis": {
            "gridcolor": "white",
            "linecolor": "white",
            "ticks": ""
           }
          },
          "title": {
           "x": 0.05
          },
          "xaxis": {
           "automargin": true,
           "gridcolor": "white",
           "linecolor": "white",
           "ticks": "",
           "title": {
            "standoff": 15
           },
           "zerolinecolor": "white",
           "zerolinewidth": 2
          },
          "yaxis": {
           "automargin": true,
           "gridcolor": "white",
           "linecolor": "white",
           "ticks": "",
           "title": {
            "standoff": 15
           },
           "zerolinecolor": "white",
           "zerolinewidth": 2
          }
         }
        },
        "title": {
         "font": {
          "color": "#4D5663"
         },
         "text": "Beer Overall Rating"
        },
        "xaxis": {
         "gridcolor": "#E1E5ED",
         "range": [
          0,
          5.95
         ],
         "showgrid": true,
         "tickfont": {
          "color": "#4D5663"
         },
         "title": {
          "font": {
           "color": "#4D5663"
          },
          "text": "Rating (Scale of 0-5)"
         },
         "zerolinecolor": "#E1E5ED"
        },
        "yaxis": {
         "gridcolor": "#E1E5ED",
         "showgrid": true,
         "tickfont": {
          "color": "#4D5663"
         },
         "title": {
          "font": {
           "color": "#4D5663"
          },
          "text": "Number of Reviews"
         },
         "zerolinecolor": "#E1E5ED"
        }
       }
      },
      "text/html": [
       "<div>                            <div id=\"e7740323-9e07-4b88-b14a-081d2a76a4fc\" class=\"plotly-graph-div\" style=\"height:525px; width:100%;\"></div>            <script type=\"text/javascript\">                require([\"plotly\"], function(Plotly) {                    window.PLOTLYENV=window.PLOTLYENV || {};\n",
       "                    window.PLOTLYENV.BASE_URL='https://plot.ly';                                    if (document.getElementById(\"e7740323-9e07-4b88-b14a-081d2a76a4fc\")) {                    Plotly.newPlot(                        \"e7740323-9e07-4b88-b14a-081d2a76a4fc\",                        [{\"histfunc\":\"count\",\"histnorm\":\"\",\"marker\":{\"color\":\"rgba(255, 153, 51, 1.0)\",\"line\":{\"color\":\"#4D5663\",\"width\":1.3}},\"name\":\"review_overall\",\"nbinsx\":20,\"opacity\":0.8,\"orientation\":\"v\",\"type\":\"histogram\",\"x\":[4.5,4.0,4.0,4.0,3.5,2.0,3.5,5.0,4.0,4.0,4.0,4.0,3.5,3.0,4.5,3.5,4.0,4.0,4.0,4.0,2.0,3.5,4.0,3.5,3.5,3.5,4.0,4.0,4.5,3.5,4.0,4.5,4.5,3.0,4.0,4.0,4.5,4.0,4.5,4.0,4.0,4.5,4.0,4.0,4.0,4.0,5.0,4.5,3.5,3.0,1.0,3.5,4.0,5.0,3.5,4.0,3.5,4.5,2.0,3.5,3.5,4.0,3.5,4.0,4.0,2.5,4.5,4.0,4.0,4.5,4.0,3.5,3.5,3.5,4.0,3.5,3.0,3.5,3.5,4.0,3.5,2.0,3.5,4.0,5.0,4.0,4.0,4.0,4.0,3.5,4.0,1.5,4.0,4.0,4.0,4.0,4.0,3.5,3.5,4.5,4.0,2.0,4.0,4.5,3.5,4.5,4.0,3.5,5.0,3.5,4.0,3.0,4.0,4.0,2.5,3.5,2.5,3.0,4.0,3.5,4.5,4.0,4.5,3.5,4.0,2.5,3.5,4.0,3.5,4.0,4.0,4.0,4.5,4.0,3.5,4.0,4.0,4.0,4.0,4.0,4.5,3.5,4.0,4.5,4.0,3.5,4.5,3.5,4.0,4.0,2.0,4.0,4.0,3.5,5.0,4.5,4.5,5.0,3.0,4.5,4.0,4.0,4.0,3.5,4.5,4.5,4.5,3.0,1.5,4.5,4.0,4.0,3.0,4.0,4.0,4.0,2.0,3.5,4.0,1.5,4.5,3.0,3.5,3.5,3.0,4.0,3.0,1.0,3.0,4.0,2.5,4.0,4.0,4.5,2.0,4.5,4.0,1.0,3.5,3.5,3.0,4.0,4.5,4.0,4.5,4.5,3.5,3.5,3.5,4.5,4.5,4.0,4.0,4.0,4.5,4.0,2.5,4.5,4.5,3.5,3.5,4.0,5.0,3.5,1.0,4.0,2.0,3.5,3.5,4.0,4.0,2.5,4.0,4.0,4.5,4.5,4.5,4.5,4.0,4.0,4.0,4.0,3.0,4.0,4.0,4.0,2.5,3.5,3.0,3.0,2.5,3.0,2.5,1.5,3.0,3.0,4.5,4.0,1.0,4.0,4.0,5.0,2.5,3.0,4.0,4.0,3.0,4.5,3.5,4.0,3.5,3.5,1.5,4.0,4.5,3.5,3.5,4.0,4.0,4.0,2.0,4.0,4.0,2.0,2.5,4.0,4.0,4.5,5.0,2.0,3.5,3.0,3.5,4.0,4.0,3.5,3.5,4.5,4.0,2.5,3.0,3.0,3.5,3.5,3.0,4.0,2.5,4.0,2.0,4.0,4.0,4.0,4.0,3.5,3.5,3.5,3.5,2.5,4.0,4.0,3.0,3.0,3.5,1.5,3.0,4.5,3.5,4.0,3.0,2.5,2.5,4.0,3.5,3.5,4.0,4.0,5.0,3.5,4.0,3.5,4.0,4.5,3.0,1.5,4.5,4.5,3.0,3.5,3.0,4.0,2.5,3.5,3.0,2.0,4.0,2.5,4.5,4.0,3.0,4.0,4.5,4.0,3.0,4.0,4.0,3.0,4.5,4.0,4.0,4.5,4.5,4.5,3.5,3.0,4.0,3.5,4.0,4.0,3.0,4.0,4.0,2.5,2.5,4.5,4.5,4.0,4.0,3.0,4.0,3.5,3.0,3.5,4.0,4.5,4.0,4.0,3.5,4.0,4.0,4.0,4.0,4.0,3.0,1.5,3.0,4.5,4.0,4.0,3.0,5.0,2.5,3.0,4.0,3.5,3.5,4.5,2.0,4.0,3.5,3.5,2.0,4.0,3.5,3.5,4.0,3.0,3.0,3.5,4.0,4.0,3.0,3.0,4.0,4.0,4.5,4.5,4.0,3.5,4.0,3.5,4.0,3.5,5.0,4.0,4.0,3.0,4.5,4.0,2.5,4.0,4.5,3.0,4.0,3.5,4.0,3.5,2.0,3.5,4.5,4.0,4.5,4.0,4.0,4.0,4.0,4.0,3.5,3.5,3.0,3.0,3.5,3.5,4.0,3.5,4.5,5.0,4.0,4.0,4.5,4.0,4.5,2.0,4.0,4.0,4.0,4.0,2.0,4.0,4.0,4.0,3.5,4.0,5.0,3.0,3.5,4.5,2.0,1.5,4.0,3.5,4.0,4.0,4.0,3.5,4.5,4.0,2.0,3.5,4.0,3.0,2.0,4.5,4.5,3.0,4.0,1.5,3.5,1.5,4.0,3.5,4.5,4.0,3.5,4.5,4.5,4.5,1.5,4.0,3.5,4.0,3.0,4.5,4.0,2.0,4.0,2.5,4.0,2.5,4.0,3.5,3.5,4.0,3.0,4.0,4.5,4.5,3.5,4.5,3.5,3.5,4.0,2.0,4.0,4.0,3.0,4.0,4.5,3.0,2.0,2.5,2.5,4.0,4.0,4.0,2.0,4.0,3.5,4.0,4.0,2.0,4.5,4.0,5.0,5.0,5.0,4.5,4.0,3.5,4.0,4.5,3.0,5.0,4.0,4.5,4.0,4.0,3.5,4.0,3.5,4.5,3.5,4.0,4.0,4.0,3.0,4.5,3.0,4.5,3.0,3.5,4.0,5.0,5.0,2.0,4.0,4.0,2.5,2.0,3.0,3.5,3.5,3.5,3.5,4.0,3.0,3.5,3.5,3.5,4.0,1.0,4.0,4.0,3.5,4.0,4.5,4.0,2.5,4.5,3.0,4.0,4.5,4.0,4.0,2.0,3.5,3.5,3.5,4.0,1.5,4.5,1.0,3.5,4.0,4.5,4.0,4.0,5.0,2.5,4.0,2.5,5.0,4.0,4.0,1.5,4.0,3.0,4.5,4.0,3.5,4.0,2.0,4.0,1.5,5.0,4.0,2.0,4.0,4.0,4.5,4.0,3.5,4.0,3.5,3.0,4.0,4.0,4.0,4.5,4.0,4.0,3.5,3.5,3.5,2.5,4.5,5.0,4.0,4.0,4.0,5.0,5.0,4.0,3.0,3.0,4.0,3.0,3.5,3.0,3.5,2.0,1.5,4.0,1.0,3.0,3.5,4.0,4.0,3.5,4.0,2.0,3.5,4.0,4.0,3.5,2.5,5.0,4.0,2.0,4.0,4.0,4.0,4.0,4.0,4.0,4.5,4.5,5.0,3.5,1.5,2.5,3.5,1.0,2.5,3.0,1.5,3.5,4.0,4.0,4.0,4.0,2.5,4.5,4.0,4.0,4.5,4.0,1.5,2.5,3.5,2.5,4.5,4.0,4.5,3.5,4.0,4.0,4.0,4.0,4.5,4.0,4.0,4.5,4.5,3.0,3.5,4.5,4.5,4.0,4.5,4.0,4.0,4.0,3.0,3.5,4.0,4.0,4.0,4.0,3.5,5.0,4.5,4.0,4.0,4.0,5.0,5.0,2.0,5.0,5.0,3.0,3.5,4.0,2.0,4.5,4.0,4.0,2.5,2.0,4.5,3.0,4.0,2.5,4.5,4.0,4.0,3.5,3.0,4.0,4.5,4.0,5.0,4.5,4.0,2.5,3.5,2.0,4.5,5.0,3.0,4.5,4.0,4.0,1.0,4.0,3.0,3.0,4.0,4.0,3.0,5.0,2.0,3.5,3.5,4.0,3.0,4.0,5.0,4.5,5.0,4.5,4.0,4.0,4.0,4.0,3.0,2.0,4.5,3.5,4.5,3.5,4.0,4.0,4.5,4.0,4.5,2.0,3.0,4.0,3.5,4.0,1.5,4.0,3.0,4.0,4.0,4.0,4.5,2.5,4.5,3.5,4.0,4.5,4.0,4.5,4.0,3.5,4.5,3.0,3.5,2.0,4.0,4.5,4.5,2.0,4.0,4.0,4.0,3.5,4.0,4.0,4.0,3.0,3.5,4.5,4.5,3.5,4.5,4.5,4.0,3.5,4.5,4.0,4.0,4.0,3.5,4.5,3.0,4.5,4.0,2.0,3.5,2.5,3.0,4.0,2.5,3.0,4.0,3.5,4.0,3.5,4.5,5.0,4.5,4.5,4.0,4.0,3.5,3.5,4.0,3.5,2.0,4.0,3.5,5.0,3.5,2.5,1.5,4.0,5.0,4.5,3.5,4.0,4.0,4.0,4.0,4.0,4.0,3.5,3.5,3.5,5.0,4.0,3.5,3.0,4.0,4.5,3.0,2.5,4.0,4.0,1.0,4.0,1.0,4.0,4.0,4.5,4.0,2.5,4.0,4.0,3.0,4.0,4.5,4.5,4.5,1.5,3.5,4.0,3.5,3.0,4.0,5.0,3.0,5.0,4.5,3.5,2.5,4.5,4.0,3.0,3.0,4.0,4.0,3.0,1.5,4.0,4.5,4.0,4.0,3.0,3.5,4.0,4.5,3.0,4.5,4.5,1.0,4.5,2.5,4.5,4.0,3.0,4.5,5.0,3.0,4.0,3.5,3.5,4.0,4.5,4.0,3.5,3.5,3.5,4.5,3.5,3.0,3.0,3.5,3.5,4.0,4.0,4.0,3.0,4.0,4.0,4.0,4.0,4.0,4.0,4.0,4.0,4.0,4.0,3.5,3.5,4.5,4.5,4.0,4.5,2.0,2.0,4.0,4.0,5.0,4.5,4.5,4.0,4.0,4.0,4.0,3.5,4.0,3.5,4.0,2.5,3.5,4.0,4.0,4.0,3.5,4.0,4.5,4.0,4.5,3.5,4.0,4.0,4.0,4.0,4.0,4.0,4.0,4.0,4.0,4.0,4.0,3.5,3.5,3.5,5.0,4.0,4.0,4.0,4.5,5.0,1.5,4.0,4.0,4.0,4.0,4.0,2.0,3.5,5.0,4.5,2.0,3.5,4.5,3.0,2.5,2.0,3.5,4.5,4.5,3.5,3.0,4.5,3.5,3.5,4.0,2.0,3.5,4.0,4.0,4.5,4.0,4.5,4.5,4.0,2.0,3.5,4.5,3.5,3.5,3.5,3.5,1.5,4.0,4.0,3.0,4.0,4.5,4.0,2.5,3.5,3.5,4.5,3.5,1.5,3.5,4.0,3.5,2.0,4.5,3.0,4.5,4.0,4.0,4.0,4.5,4.0,4.0,4.5,3.5,4.5,3.0,4.0,4.0,4.0,4.5,3.5,4.0,3.5,2.0,3.0,4.0,4.0,4.5,4.0,4.5,4.5,4.0,1.0,4.5,4.0,4.0,5.0,2.0,4.5,4.0,3.5,4.0,4.0,3.5,3.0,3.0,4.5,4.5,4.5,3.0,4.0,4.0,4.0,4.5,4.0,4.0,4.0,5.0,4.5,3.0,1.0,3.5,3.0,3.5,4.0,4.0,4.0,4.0,3.5,4.5,3.5,3.0,4.5,4.5,4.0,3.0,4.0,4.5,4.0,4.0,4.0,4.5,4.5,1.0,5.0,4.0,4.0,4.0,4.0,4.0,4.0,2.5,4.0,4.0,4.0,3.0,4.0,3.0,4.0,4.0,4.0,4.0,4.0,5.0,5.0,4.5,2.0,3.5,4.0,4.0,3.5,4.0,2.5,4.0,3.5,2.0,3.5,3.0,4.5,4.5,2.0,4.5,3.0,3.5,3.0,3.5,3.5,4.0,4.0,1.5,2.5,3.0,4.5,4.0,2.5,4.0,3.0,3.5,4.0,4.5,3.5,4.5,4.0,4.5,3.5,4.0,4.0,4.5,4.5,4.0,3.0,5.0,3.0,3.0,4.5,3.0,3.5,5.0,4.0,3.0,4.5,5.0,4.0,4.0,4.0,4.0,3.5,4.5,4.0,4.0,3.5,4.5,4.0,4.0,4.5,4.5,3.0,4.0,3.5,4.5,2.0,4.0,4.5,4.0,4.0,3.5,4.5,3.0,3.0,4.5,4.0,5.0,4.0,4.0,3.5,4.0,3.5,3.5,3.5,5.0,4.0,2.5,3.5,3.0,3.5,4.5,4.5,3.0,2.5,5.0,3.5,3.5,4.0,4.5,3.0,3.5,4.0,4.0,3.0,2.0,3.0,3.5,3.0,4.0,3.5,4.5,3.5,2.0,4.0,2.0,3.5,4.5,3.5,4.5,5.0,3.0,4.0,3.5,4.0,2.0,3.0,4.0,4.5,4.5,4.0,4.0,4.0,3.5,4.5,4.5,4.0,5.0,3.5,4.5,4.0,2.0,4.0,4.5,4.0,4.0,4.0,4.5,3.5,3.0,3.5,4.0,2.5,2.5,3.0,3.5,3.5,4.0,3.5,4.5,4.0,3.5,3.5,4.0,4.0,3.5,4.5,4.0,4.5,4.0,2.5,2.5,1.5,3.5,1.0,3.5,4.5,4.5,4.0,3.5,3.0,3.5,4.0,4.5,5.0,4.0,3.0,4.0,3.5,2.0,2.5,3.0,4.5,4.0,4.5,3.0,4.5,4.0,4.5,4.0,3.5,4.5,4.0,4.5,4.0,4.0,2.0,5.0,4.5,4.0,3.0,3.0,4.5,2.0,4.5,2.5,3.5,4.0,2.5,4.0,3.0,4.0,4.0,3.0,3.5,3.5,4.0,3.0,4.0,4.5,1.5,3.5,3.5,4.5,4.0,4.0,4.0,4.0,4.0,3.0,5.0,3.0,4.5,4.5,3.0,3.0,4.5,3.5,4.0,4.0,4.0,4.0,2.5,4.0,3.5,3.5,4.0,4.5,3.0,4.0,2.0,4.0,4.5,4.5,4.0,5.0,4.0,4.0,4.0,4.0,4.0,4.0,4.0,4.0,4.0,4.0,4.0,3.5,4.0,4.5,2.5,4.5,3.0,4.5,3.5,3.5,4.0,3.0,2.0,3.5,4.0,3.5,4.0,4.0,2.0,3.5,3.5,3.5,4.0,4.0,3.0,4.0,4.0,4.0,4.0,4.0,4.0,3.5,4.0,4.5,3.5,4.5,3.0,3.5,4.0,4.5,4.0,4.0,4.0,3.0,4.0,4.5,2.0,4.5,4.0,2.5,4.5,4.5,4.5,3.0,3.5,4.0,5.0,2.5,3.0,4.5,4.5,4.0,3.5,3.0,2.0,3.0,4.0,4.0,4.0,3.5,4.5,4.0,4.0,5.0,3.0,1.5,4.0,4.0,4.0,4.0,4.5,2.0,3.0,3.0,4.5,4.5,4.5,3.5,3.5,4.0,3.0,3.5,4.0,4.0,2.0,4.0,4.0,3.5,4.0,1.5,4.0,4.5,5.0,5.0,5.0,3.0,3.0,5.0,3.0,3.5,4.0,4.5,4.5,4.0,2.0,4.0,4.0,3.5,4.5,2.0,3.0,1.5,1.5,3.0,4.5,4.5,4.0,2.5,1.5,4.0,3.0,4.0,3.0,4.0,4.0,4.0,4.5,4.0,4.5,3.5,2.5,1.5,4.5,2.5,4.0,3.5,4.0,3.0,3.5,4.0,3.0,3.5,2.5,3.0,3.5,5.0,1.0,4.0,4.5,5.0,4.5,5.0,4.5,1.5,3.0,4.0,3.5,4.0,3.0,3.5,4.0,4.5,2.0,3.0,3.0,4.0,2.5,3.0,5.0,2.0,4.5,3.5,2.5,1.0,3.0,4.0,4.5,4.5,3.5,2.5,4.5,4.0,4.0,4.5,3.5,2.0,4.0,4.0,3.5,4.5,4.5,4.0,4.0,3.5,4.5,3.0,4.5,2.0,4.5,4.0,4.0,4.0,2.5,4.0,1.5,3.0,3.0,3.0,2.0,4.0,4.5,4.0,1.5,2.0,4.0,4.0,4.5,4.0,3.5,4.5,2.0,4.5,2.0,3.5,3.5,2.5,4.5,3.5,3.0,2.0,3.0,4.5,3.0,3.0,3.0,3.0,4.0,4.0,3.0,4.5,3.0,4.0,4.5,2.5,4.5,4.5,3.5,4.5,3.5,3.0,4.0,4.0,4.5,3.0,3.0,4.0,5.0,3.0,1.0,3.0,5.0,3.5,4.0,4.0,3.5,4.5,3.0,4.5,3.5,3.0,2.0,2.0,2.5,4.5,1.5,3.0,4.5,5.0,4.0,4.5,3.0,4.0,4.0,4.0,4.0,3.5,4.0,4.5,3.0,3.5,1.0,4.0,4.5,2.0,3.5,5.0,4.5,3.5,4.0,4.0,3.5,3.0,4.5,4.5,3.0,3.5,4.0,3.0,4.0,3.0,4.0,4.0,4.0,3.5,1.5,4.0,4.5,4.0,4.0,4.0,2.0,4.0,4.0,4.5,4.0,3.0,4.0,3.5,4.0,3.5,4.5,4.0,5.0,3.0,5.0,4.5,3.0,2.0,3.0,3.5,4.5,4.0,3.5,4.0,4.5,3.0,3.5,3.5,4.0,3.0,3.5,4.5,2.0,3.5,5.0,2.0,4.0,4.0,2.0,4.0,3.0,2.0,3.0,3.5,4.0,3.5,4.5,4.0,4.5,2.5,4.0,1.5,4.0,3.5,2.5,3.0,3.5,4.0,4.5,3.5,5.0,4.0,3.5,3.5,3.5,4.0,3.0,3.0,3.5,4.0,4.0,4.5,4.5,4.0,5.0,3.0,4.0,4.0,4.0,4.0,4.0,1.5,4.0,4.0,4.0,2.5,1.5,4.0,3.5,4.0,4.0,3.5,3.0,3.0,4.0,4.0,3.0,2.5,1.5,3.5,3.0,4.5,3.0,4.5,4.0,4.0,3.5,4.0,4.0,4.0,2.5,3.5,2.0,4.0,3.5,3.5,4.0,3.0,3.5,4.0,3.5,2.5,2.5,4.0,3.5,3.0,3.5,2.0,3.5,3.0,4.5,3.5,4.5,2.0,4.0,5.0,4.0,3.5,3.0,3.0,4.0,3.0,4.5,4.0,2.0,3.5,3.0,4.0,4.0,3.5,2.5,4.5,4.5,3.5,2.5,3.5,4.5,3.0,4.5,5.0,4.0,4.5,2.5,4.5,3.0,2.0,3.5,3.5,3.5,4.0,4.5,3.5,4.5,4.0,3.5,3.0,4.0,3.5,4.5,4.0,4.0,5.0,4.0,4.5,3.5,5.0,3.5,3.5,4.0,4.5,4.5,2.0,4.5,3.5,4.0,4.0,4.5,4.5,3.0,4.0,4.0,2.0,5.0,3.0,2.0,4.0,4.5,4.5,3.5,4.0,4.0,3.5,2.5,4.0,2.0,4.5,3.5,4.5,4.0,4.0,4.0,3.5,3.0,4.5,3.0,3.5,2.0,4.0,3.5,3.5,2.5,3.0,3.5,3.5,2.0,1.5,4.0,5.0,4.0,4.0,3.5,4.0,3.0,4.0,3.5,3.5,1.5,4.0,3.5,3.0,5.0,4.0,2.5,2.0,1.5,1.5,3.0,4.5,3.5,2.0,2.5,3.5,2.5,3.0,2.0,3.0,1.5,4.5,4.0,4.0,2.5,3.5,1.5,3.5,3.0,4.0,3.0,2.0,3.5,5.0,2.5,3.0,4.5,2.5,3.5,5.0,4.5,4.0,4.5,3.0,4.5,3.5,3.5,4.0,3.5,2.5,3.5,3.5,3.5,4.0,4.0,2.5,3.0,3.0,4.0,3.0,4.0,3.5,4.0,4.5,3.5,3.0,3.0,4.0,4.5,3.0,4.0,3.0,3.5,3.5,4.0,4.0,4.0,3.5,1.5,4.5,3.5,3.0,4.0,5.0,4.0,2.5,4.0,3.0,4.0,3.5,4.0,3.5,3.0,4.5,3.5,1.0,3.5,3.5,2.5,2.0,3.5,2.0,4.5,3.0,3.5,5.0,5.0,5.0,1.5,3.5,3.5,3.0,4.5,3.5,3.0,2.0,2.0,3.0,1.5,2.0,3.5,3.0,2.5,3.0,1.5,4.0,3.5,4.5,4.5,3.5,3.0,3.5,2.5,4.5,5.0,5.0,3.5,4.0,5.0,3.0,3.5,2.5,3.0,4.0,4.0,4.5,4.5,4.0,4.5,2.0,2.0,4.5,2.5,3.5,4.0,2.0,2.0,2.5,4.5,4.5,3.5,4.0,4.0,4.0,3.5,4.0,4.0,2.0,2.0,4.5,4.5,4.0,4.5,1.5,4.5,3.5,3.0,1.5,4.0,2.0,3.0,1.5,3.0,5.0,4.0,3.0,3.5,2.5,2.0,4.5,4.0,4.0,4.0,3.5,2.0,1.0,4.5,4.0,4.5,4.0,4.0,4.0,4.0,4.0,4.0,2.0,3.0,4.0,3.0,3.5,4.0,4.0,3.5,3.0,2.5,4.0,2.5,4.5,3.5,4.5,4.0,4.0,4.0,3.0,3.5,4.5,2.0,3.0,3.5,4.0,4.0,4.0,3.5,5.0,4.0,3.0,4.0,3.0,4.0,2.5,4.0,4.0,4.0,2.5,3.5,4.0,3.5,3.5,4.0,3.5,3.0,3.0,4.0,1.5,4.0,2.5,4.0,4.5,4.5,3.0,4.0,4.0,3.0,2.0,4.0,3.5,2.5,3.5,1.0,4.5,3.5,4.5,3.0,3.5,3.5,4.5,3.5,4.0,4.0,4.0,4.0,3.0,2.5,1.5,4.5,4.0,4.5,4.5,2.5,4.5,4.0,4.0,2.5,4.0,4.5,3.5,2.5,2.5,4.0,3.5,4.5,3.0,3.5,4.5,4.0,4.0,4.5,4.0,4.0,4.5,4.5,2.5,2.0,3.5,1.5,1.0,2.0,3.0,3.5,4.0,3.0,1.5,1.0,2.0,4.0,4.0,4.0,3.5,2.5,4.0,2.0,3.5,4.0,4.5,2.0,3.5,4.0,4.0,4.5,4.5,2.5,2.0,3.0,4.5,4.0,4.0,4.5,3.5,3.0,4.0,4.0,4.0,3.5,4.0,3.5,3.5,3.0,2.0,3.5,4.0,3.5,4.0,5.0,1.5,2.0,3.5,2.5,4.0,4.0,4.0,3.0,3.0,3.5,3.0,2.5,5.0,2.0,4.0,2.0,3.5,4.5,3.5,4.0,3.5,3.0,3.5,4.0,4.0,3.5,3.0,4.0,4.0,4.0,2.0,4.5,4.0,4.0,4.0,4.0,4.0,3.0,4.5,4.0,3.5,2.0,3.5,2.5,5.0,4.5,3.0,3.5,3.0,4.0,4.5,2.0,2.5,3.0,3.0,3.5,2.0,2.0,4.0,3.5,2.5,3.0,5.0,4.5,3.0,4.5,2.5,4.5,4.0,4.0,4.0,3.5,1.0,4.0,3.5,4.0,2.0,4.0,4.0,4.0,4.0,3.5,4.0,3.0,2.0,3.5,4.0,5.0,4.0,4.0,4.5,2.5,4.0,4.5,4.5,2.0,4.5,4.0,2.5,1.5,3.0,2.5,3.0,4.0,3.0,2.5,2.5,4.0,4.5,4.5,3.0,3.5,4.0,4.5,3.0,3.0,3.5,2.0,3.5,4.5,2.5,1.5,2.5,3.5,3.5,1.5,2.5,3.0,4.5,2.0,2.5,4.0,3.5,1.5,2.5,3.0,1.5,4.5,3.0,3.0,2.5,4.0,2.5,4.0,4.0,4.0,4.5,4.0,5.0,4.5,4.0,4.0,4.0,4.0,4.0,3.0,3.0,3.0,2.5,3.0,3.5,3.5,3.0,3.0,2.0,1.0,1.5,3.0,2.5,4.0,4.0,4.0,4.0,3.5,3.5,2.0,2.0,3.5,4.0,3.5,3.5,3.0,4.0,4.0,3.5,3.0,3.0,4.0,2.0,4.0,3.0,4.0,3.0,4.0,4.0,3.0,4.0,1.5,1.0,4.0,1.5,2.0,4.5,3.0,1.0,2.5,3.0,3.0,3.0,3.0,2.0,3.5,3.0,3.5,3.0,2.0,4.0,3.0,4.0,3.5,2.5,4.0,3.0,3.0,1.0,2.5,1.5,2.0,1.5,4.0,4.0,3.0,4.0,4.0,4.0,4.0,2.0,4.0,2.5,4.0,4.0,3.5,2.5,3.5,3.0,4.0,3.5,4.5,3.0,3.0,4.0,2.0,2.0,4.5,2.5,4.0,4.5,3.5,1.5,2.0,3.5,1.5,3.0,4.0,4.5,4.0,4.0,4.0,3.0,4.0,3.0,4.0,3.5,4.0,2.5,2.5,2.5,3.0,3.0,2.5,2.0,4.5,1.0,3.0,2.5,3.5,4.5,2.5,2.5,2.0,4.5,2.5,3.0,4.5,4.5,3.5,3.0,2.5,3.0,5.0,3.0,3.0,3.0]}],                        {\"barmode\":\"overlay\",\"legend\":{\"bgcolor\":\"#FFFFFF\",\"font\":{\"color\":\"#4D5663\"}},\"paper_bgcolor\":\"#FFFFFF\",\"plot_bgcolor\":\"#FFFFFF\",\"template\":{\"data\":{\"bar\":[{\"error_x\":{\"color\":\"#2a3f5f\"},\"error_y\":{\"color\":\"#2a3f5f\"},\"marker\":{\"line\":{\"color\":\"#E5ECF6\",\"width\":0.5},\"pattern\":{\"fillmode\":\"overlay\",\"size\":10,\"solidity\":0.2}},\"type\":\"bar\"}],\"barpolar\":[{\"marker\":{\"line\":{\"color\":\"#E5ECF6\",\"width\":0.5},\"pattern\":{\"fillmode\":\"overlay\",\"size\":10,\"solidity\":0.2}},\"type\":\"barpolar\"}],\"carpet\":[{\"aaxis\":{\"endlinecolor\":\"#2a3f5f\",\"gridcolor\":\"white\",\"linecolor\":\"white\",\"minorgridcolor\":\"white\",\"startlinecolor\":\"#2a3f5f\"},\"baxis\":{\"endlinecolor\":\"#2a3f5f\",\"gridcolor\":\"white\",\"linecolor\":\"white\",\"minorgridcolor\":\"white\",\"startlinecolor\":\"#2a3f5f\"},\"type\":\"carpet\"}],\"choropleth\":[{\"colorbar\":{\"outlinewidth\":0,\"ticks\":\"\"},\"type\":\"choropleth\"}],\"contour\":[{\"colorbar\":{\"outlinewidth\":0,\"ticks\":\"\"},\"colorscale\":[[0.0,\"#0d0887\"],[0.1111111111111111,\"#46039f\"],[0.2222222222222222,\"#7201a8\"],[0.3333333333333333,\"#9c179e\"],[0.4444444444444444,\"#bd3786\"],[0.5555555555555556,\"#d8576b\"],[0.6666666666666666,\"#ed7953\"],[0.7777777777777778,\"#fb9f3a\"],[0.8888888888888888,\"#fdca26\"],[1.0,\"#f0f921\"]],\"type\":\"contour\"}],\"contourcarpet\":[{\"colorbar\":{\"outlinewidth\":0,\"ticks\":\"\"},\"type\":\"contourcarpet\"}],\"heatmap\":[{\"colorbar\":{\"outlinewidth\":0,\"ticks\":\"\"},\"colorscale\":[[0.0,\"#0d0887\"],[0.1111111111111111,\"#46039f\"],[0.2222222222222222,\"#7201a8\"],[0.3333333333333333,\"#9c179e\"],[0.4444444444444444,\"#bd3786\"],[0.5555555555555556,\"#d8576b\"],[0.6666666666666666,\"#ed7953\"],[0.7777777777777778,\"#fb9f3a\"],[0.8888888888888888,\"#fdca26\"],[1.0,\"#f0f921\"]],\"type\":\"heatmap\"}],\"heatmapgl\":[{\"colorbar\":{\"outlinewidth\":0,\"ticks\":\"\"},\"colorscale\":[[0.0,\"#0d0887\"],[0.1111111111111111,\"#46039f\"],[0.2222222222222222,\"#7201a8\"],[0.3333333333333333,\"#9c179e\"],[0.4444444444444444,\"#bd3786\"],[0.5555555555555556,\"#d8576b\"],[0.6666666666666666,\"#ed7953\"],[0.7777777777777778,\"#fb9f3a\"],[0.8888888888888888,\"#fdca26\"],[1.0,\"#f0f921\"]],\"type\":\"heatmapgl\"}],\"histogram\":[{\"marker\":{\"pattern\":{\"fillmode\":\"overlay\",\"size\":10,\"solidity\":0.2}},\"type\":\"histogram\"}],\"histogram2d\":[{\"colorbar\":{\"outlinewidth\":0,\"ticks\":\"\"},\"colorscale\":[[0.0,\"#0d0887\"],[0.1111111111111111,\"#46039f\"],[0.2222222222222222,\"#7201a8\"],[0.3333333333333333,\"#9c179e\"],[0.4444444444444444,\"#bd3786\"],[0.5555555555555556,\"#d8576b\"],[0.6666666666666666,\"#ed7953\"],[0.7777777777777778,\"#fb9f3a\"],[0.8888888888888888,\"#fdca26\"],[1.0,\"#f0f921\"]],\"type\":\"histogram2d\"}],\"histogram2dcontour\":[{\"colorbar\":{\"outlinewidth\":0,\"ticks\":\"\"},\"colorscale\":[[0.0,\"#0d0887\"],[0.1111111111111111,\"#46039f\"],[0.2222222222222222,\"#7201a8\"],[0.3333333333333333,\"#9c179e\"],[0.4444444444444444,\"#bd3786\"],[0.5555555555555556,\"#d8576b\"],[0.6666666666666666,\"#ed7953\"],[0.7777777777777778,\"#fb9f3a\"],[0.8888888888888888,\"#fdca26\"],[1.0,\"#f0f921\"]],\"type\":\"histogram2dcontour\"}],\"mesh3d\":[{\"colorbar\":{\"outlinewidth\":0,\"ticks\":\"\"},\"type\":\"mesh3d\"}],\"parcoords\":[{\"line\":{\"colorbar\":{\"outlinewidth\":0,\"ticks\":\"\"}},\"type\":\"parcoords\"}],\"pie\":[{\"automargin\":true,\"type\":\"pie\"}],\"scatter\":[{\"marker\":{\"colorbar\":{\"outlinewidth\":0,\"ticks\":\"\"}},\"type\":\"scatter\"}],\"scatter3d\":[{\"line\":{\"colorbar\":{\"outlinewidth\":0,\"ticks\":\"\"}},\"marker\":{\"colorbar\":{\"outlinewidth\":0,\"ticks\":\"\"}},\"type\":\"scatter3d\"}],\"scattercarpet\":[{\"marker\":{\"colorbar\":{\"outlinewidth\":0,\"ticks\":\"\"}},\"type\":\"scattercarpet\"}],\"scattergeo\":[{\"marker\":{\"colorbar\":{\"outlinewidth\":0,\"ticks\":\"\"}},\"type\":\"scattergeo\"}],\"scattergl\":[{\"marker\":{\"colorbar\":{\"outlinewidth\":0,\"ticks\":\"\"}},\"type\":\"scattergl\"}],\"scattermapbox\":[{\"marker\":{\"colorbar\":{\"outlinewidth\":0,\"ticks\":\"\"}},\"type\":\"scattermapbox\"}],\"scatterpolar\":[{\"marker\":{\"colorbar\":{\"outlinewidth\":0,\"ticks\":\"\"}},\"type\":\"scatterpolar\"}],\"scatterpolargl\":[{\"marker\":{\"colorbar\":{\"outlinewidth\":0,\"ticks\":\"\"}},\"type\":\"scatterpolargl\"}],\"scatterternary\":[{\"marker\":{\"colorbar\":{\"outlinewidth\":0,\"ticks\":\"\"}},\"type\":\"scatterternary\"}],\"surface\":[{\"colorbar\":{\"outlinewidth\":0,\"ticks\":\"\"},\"colorscale\":[[0.0,\"#0d0887\"],[0.1111111111111111,\"#46039f\"],[0.2222222222222222,\"#7201a8\"],[0.3333333333333333,\"#9c179e\"],[0.4444444444444444,\"#bd3786\"],[0.5555555555555556,\"#d8576b\"],[0.6666666666666666,\"#ed7953\"],[0.7777777777777778,\"#fb9f3a\"],[0.8888888888888888,\"#fdca26\"],[1.0,\"#f0f921\"]],\"type\":\"surface\"}],\"table\":[{\"cells\":{\"fill\":{\"color\":\"#EBF0F8\"},\"line\":{\"color\":\"white\"}},\"header\":{\"fill\":{\"color\":\"#C8D4E3\"},\"line\":{\"color\":\"white\"}},\"type\":\"table\"}]},\"layout\":{\"annotationdefaults\":{\"arrowcolor\":\"#2a3f5f\",\"arrowhead\":0,\"arrowwidth\":1},\"autotypenumbers\":\"strict\",\"coloraxis\":{\"colorbar\":{\"outlinewidth\":0,\"ticks\":\"\"}},\"colorscale\":{\"diverging\":[[0,\"#8e0152\"],[0.1,\"#c51b7d\"],[0.2,\"#de77ae\"],[0.3,\"#f1b6da\"],[0.4,\"#fde0ef\"],[0.5,\"#f7f7f7\"],[0.6,\"#e6f5d0\"],[0.7,\"#b8e186\"],[0.8,\"#7fbc41\"],[0.9,\"#4d9221\"],[1,\"#276419\"]],\"sequential\":[[0.0,\"#0d0887\"],[0.1111111111111111,\"#46039f\"],[0.2222222222222222,\"#7201a8\"],[0.3333333333333333,\"#9c179e\"],[0.4444444444444444,\"#bd3786\"],[0.5555555555555556,\"#d8576b\"],[0.6666666666666666,\"#ed7953\"],[0.7777777777777778,\"#fb9f3a\"],[0.8888888888888888,\"#fdca26\"],[1.0,\"#f0f921\"]],\"sequentialminus\":[[0.0,\"#0d0887\"],[0.1111111111111111,\"#46039f\"],[0.2222222222222222,\"#7201a8\"],[0.3333333333333333,\"#9c179e\"],[0.4444444444444444,\"#bd3786\"],[0.5555555555555556,\"#d8576b\"],[0.6666666666666666,\"#ed7953\"],[0.7777777777777778,\"#fb9f3a\"],[0.8888888888888888,\"#fdca26\"],[1.0,\"#f0f921\"]]},\"colorway\":[\"#636efa\",\"#EF553B\",\"#00cc96\",\"#ab63fa\",\"#FFA15A\",\"#19d3f3\",\"#FF6692\",\"#B6E880\",\"#FF97FF\",\"#FECB52\"],\"font\":{\"color\":\"#2a3f5f\"},\"geo\":{\"bgcolor\":\"white\",\"lakecolor\":\"white\",\"landcolor\":\"#E5ECF6\",\"showlakes\":true,\"showland\":true,\"subunitcolor\":\"white\"},\"hoverlabel\":{\"align\":\"left\"},\"hovermode\":\"closest\",\"mapbox\":{\"style\":\"light\"},\"paper_bgcolor\":\"white\",\"plot_bgcolor\":\"#E5ECF6\",\"polar\":{\"angularaxis\":{\"gridcolor\":\"white\",\"linecolor\":\"white\",\"ticks\":\"\"},\"bgcolor\":\"#E5ECF6\",\"radialaxis\":{\"gridcolor\":\"white\",\"linecolor\":\"white\",\"ticks\":\"\"}},\"scene\":{\"xaxis\":{\"backgroundcolor\":\"#E5ECF6\",\"gridcolor\":\"white\",\"gridwidth\":2,\"linecolor\":\"white\",\"showbackground\":true,\"ticks\":\"\",\"zerolinecolor\":\"white\"},\"yaxis\":{\"backgroundcolor\":\"#E5ECF6\",\"gridcolor\":\"white\",\"gridwidth\":2,\"linecolor\":\"white\",\"showbackground\":true,\"ticks\":\"\",\"zerolinecolor\":\"white\"},\"zaxis\":{\"backgroundcolor\":\"#E5ECF6\",\"gridcolor\":\"white\",\"gridwidth\":2,\"linecolor\":\"white\",\"showbackground\":true,\"ticks\":\"\",\"zerolinecolor\":\"white\"}},\"shapedefaults\":{\"line\":{\"color\":\"#2a3f5f\"}},\"ternary\":{\"aaxis\":{\"gridcolor\":\"white\",\"linecolor\":\"white\",\"ticks\":\"\"},\"baxis\":{\"gridcolor\":\"white\",\"linecolor\":\"white\",\"ticks\":\"\"},\"bgcolor\":\"#E5ECF6\",\"caxis\":{\"gridcolor\":\"white\",\"linecolor\":\"white\",\"ticks\":\"\"}},\"title\":{\"x\":0.05},\"xaxis\":{\"automargin\":true,\"gridcolor\":\"white\",\"linecolor\":\"white\",\"ticks\":\"\",\"title\":{\"standoff\":15},\"zerolinecolor\":\"white\",\"zerolinewidth\":2},\"yaxis\":{\"automargin\":true,\"gridcolor\":\"white\",\"linecolor\":\"white\",\"ticks\":\"\",\"title\":{\"standoff\":15},\"zerolinecolor\":\"white\",\"zerolinewidth\":2}}},\"title\":{\"font\":{\"color\":\"#4D5663\"},\"text\":\"Beer Overall Rating\"},\"xaxis\":{\"gridcolor\":\"#E1E5ED\",\"range\":[0,5.95],\"showgrid\":true,\"tickfont\":{\"color\":\"#4D5663\"},\"title\":{\"font\":{\"color\":\"#4D5663\"},\"text\":\"Rating (Scale of 0-5)\"},\"zerolinecolor\":\"#E1E5ED\"},\"yaxis\":{\"gridcolor\":\"#E1E5ED\",\"showgrid\":true,\"tickfont\":{\"color\":\"#4D5663\"},\"title\":{\"font\":{\"color\":\"#4D5663\"},\"text\":\"Number of Reviews\"},\"zerolinecolor\":\"#E1E5ED\"}},                        {\"showLink\": true, \"linkText\": \"Export to plot.ly\", \"plotlyServerURL\": \"https://plot.ly\", \"responsive\": true}                    ).then(function(){\n",
       "                            \n",
       "var gd = document.getElementById('e7740323-9e07-4b88-b14a-081d2a76a4fc');\n",
       "var x = new MutationObserver(function (mutations, observer) {{\n",
       "        var display = window.getComputedStyle(gd).display;\n",
       "        if (!display || display === 'none') {{\n",
       "            console.log([gd, 'removed!']);\n",
       "            Plotly.purge(gd);\n",
       "            observer.disconnect();\n",
       "        }}\n",
       "}});\n",
       "\n",
       "// Listen for the removal of the full notebook cells\n",
       "var notebookContainer = gd.closest('#notebook-container');\n",
       "if (notebookContainer) {{\n",
       "    x.observe(notebookContainer, {childList: true});\n",
       "}}\n",
       "\n",
       "// Listen for the clearing of the current output cell\n",
       "var outputEl = gd.closest('.output');\n",
       "if (outputEl) {{\n",
       "    x.observe(outputEl, {childList: true});\n",
       "}}\n",
       "\n",
       "                        })                };                });            </script>        </div>"
      ]
     },
     "metadata": {},
     "output_type": "display_data"
    },
    {
     "name": "stderr",
     "output_type": "stream",
     "text": [
      "<ipython-input-16-cfd1d5a46a91>:3: UserWarning:\n",
      "\n",
      "Matplotlib is currently using module://ipykernel.pylab.backend_inline, which is a non-GUI backend, so cannot show the figure.\n",
      "\n"
     ]
    },
    {
     "data": {
      "text/plain": [
       "<Figure size 50400x36000 with 0 Axes>"
      ]
     },
     "metadata": {},
     "output_type": "display_data"
    }
   ],
   "source": [
    "fig = plt.figure(figsize=(700,500))\n",
    "dfbeer[\"review_overall\"].iplot(kind=\"histogram\", bins=(20),labels={\"mean\":'Mean Rating',\"count\":'Number of Reviews'}, xrange=[0,5.95],theme=\"white\", title=\"Beer Overall Rating\",xTitle='Rating (Scale of 0-5)', yTitle='Number of Reviews')\n",
    "fig.show(\"notebook_connected\")"
   ]
  },
  {
   "cell_type": "markdown",
   "id": "77681fad",
   "metadata": {},
   "source": [
    "#### About 26.8% of the users gave rating 4.5 or above"
   ]
  },
  {
   "cell_type": "code",
   "execution_count": null,
   "id": "e826b74d",
   "metadata": {},
   "outputs": [],
   "source": [
    "len(dfbeer.query('review_overall >= 4.5' ))/len(dfbeer)"
   ]
  },
  {
   "cell_type": "markdown",
   "id": "c97d981e",
   "metadata": {},
   "source": [
    "#### Create two dataframes since we care both mean rating and number of reviews for each beer"
   ]
  },
  {
   "cell_type": "code",
   "execution_count": null,
   "id": "a5a50ccc",
   "metadata": {},
   "outputs": [],
   "source": [
    "dfbeer_review_count =dfbeer[['beer_name','review_overall']].groupby(['beer_name'])['review_overall'].agg([ 'count'])\n",
    "dfbeer_review_count.head()"
   ]
  },
  {
   "cell_type": "code",
   "execution_count": null,
   "id": "6a3885ad",
   "metadata": {},
   "outputs": [],
   "source": [
    "dfbeer_review_rating =dfbeer[['beer_name','review_overall']].groupby(['beer_name'])['review_overall'].agg([ 'mean'])\n",
    "dfbeer_review_rating.head()"
   ]
  },
  {
   "cell_type": "code",
   "execution_count": null,
   "id": "dad8a8ad",
   "metadata": {},
   "outputs": [],
   "source": [
    "#### Merge the two datasets so each beer_name has both mean rating and total review counts"
   ]
  },
  {
   "cell_type": "code",
   "execution_count": null,
   "id": "21a44f74",
   "metadata": {},
   "outputs": [],
   "source": [
    "dfbeer_count_rating=pd.merge(dfbeer_review_count, dfbeer_review_rating, on=\"beer_name\")\n",
    "dfbeer_count_rating=dfbeer_count_rating.reset_index()\n",
    "dfbeer_count_rating.head()"
   ]
  },
  {
   "cell_type": "markdown",
   "id": "5fdce5aa",
   "metadata": {},
   "source": [
    "#### Plot the data"
   ]
  },
  {
   "cell_type": "code",
   "execution_count": null,
   "id": "fa4d770b",
   "metadata": {},
   "outputs": [],
   "source": [
    "fig=px.scatter(dfbeer_count_rating,  x=\"mean\", y=\"count\", \n",
    "            hover_name=\"beer_name\",labels={\"mean\":'Mean Rating',\"count\":'Number of Reviews'},\n",
    "           log_x=False, size_max=55, range_y=[0,3000], range_x=[1, 5],title='Beer Rating vs Counts')\n",
    "fig.show(\"notebook_connected\")"
   ]
  },
  {
   "cell_type": "code",
   "execution_count": null,
   "id": "c07c093f",
   "metadata": {},
   "outputs": [],
   "source": []
  }
 ],
 "metadata": {
  "kernelspec": {
   "display_name": "Python 3",
   "language": "python",
   "name": "python3"
  },
  "language_info": {
   "codemirror_mode": {
    "name": "ipython",
    "version": 3
   },
   "file_extension": ".py",
   "mimetype": "text/x-python",
   "name": "python",
   "nbconvert_exporter": "python",
   "pygments_lexer": "ipython3",
   "version": "3.8.8"
  }
 },
 "nbformat": 4,
 "nbformat_minor": 5
}
